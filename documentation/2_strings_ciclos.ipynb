{
 "cells": [
  {
   "attachments": {},
   "cell_type": "markdown",
   "metadata": {},
   "source": [
    "## 14. Operaciones con Strings en Python\n",
    "\n",
    "Los strings tienen varios métodos que nos sirven para manipularlas. Algunos son:\n",
    "\n",
    "- upper \n",
    "- lower \n",
    "- find \n",
    "- startswith \n",
    "- endswith\n",
    "- capitalize"
   ]
  },
  {
   "cell_type": "code",
   "execution_count": 3,
   "metadata": {},
   "outputs": [
    {
     "name": "stdout",
     "output_type": "stream",
     "text": [
      "PLATZI\n",
      "Platzi\n"
     ]
    },
    {
     "data": {
      "text/plain": [
       "1"
      ]
     },
     "execution_count": 3,
     "metadata": {},
     "output_type": "execute_result"
    }
   ],
   "source": [
    "platzi = 'platzi'\n",
    "print(platzi.upper())\n",
    "print(platzi.capitalize())\n",
    "\n",
    "platzi.find('la')"
   ]
  },
  {
   "cell_type": "code",
   "execution_count": 4,
   "metadata": {},
   "outputs": [
    {
     "data": {
      "text/plain": [
       "True"
      ]
     },
     "execution_count": 4,
     "metadata": {},
     "output_type": "execute_result"
    }
   ],
   "source": [
    "platzi.startswith('pl')"
   ]
  },
  {
   "cell_type": "code",
   "execution_count": 5,
   "metadata": {},
   "outputs": [
    {
     "data": {
      "text/plain": [
       "False"
      ]
     },
     "execution_count": 5,
     "metadata": {},
     "output_type": "execute_result"
    }
   ],
   "source": [
    "platzi.endswith('z')"
   ]
  },
  {
   "attachments": {},
   "cell_type": "markdown",
   "metadata": {},
   "source": [
    "Tambien tenemos...Operaciones con strings\n",
    "\n",
    "Operadores de pertenencia:\n",
    "- in\n",
    "- not in\n",
    "\n",
    "Comparaciones entre strings:\n",
    "\n",
    "- Las comparaciones son lexicográficas\n",
    "- Tener cuidado: En Python ‘a’ y ‘A’ son diferentes\n"
   ]
  },
  {
   "attachments": {},
   "cell_type": "markdown",
   "metadata": {},
   "source": [
    "Tambien hay unas funciones globales muy utiles:\n",
    "\n",
    "- dir: todos los metodos que se pueden usar para un objeto: no nos interesan por ahora los *dunder methods* que tienen doble guion al principio y doble guion al final."
   ]
  },
  {
   "cell_type": "code",
   "execution_count": 6,
   "metadata": {},
   "outputs": [
    {
     "data": {
      "text/plain": [
       "['__add__',\n",
       " '__class__',\n",
       " '__contains__',\n",
       " '__delattr__',\n",
       " '__dir__',\n",
       " '__doc__',\n",
       " '__eq__',\n",
       " '__format__',\n",
       " '__ge__',\n",
       " '__getattribute__',\n",
       " '__getitem__',\n",
       " '__getnewargs__',\n",
       " '__gt__',\n",
       " '__hash__',\n",
       " '__init__',\n",
       " '__init_subclass__',\n",
       " '__iter__',\n",
       " '__le__',\n",
       " '__len__',\n",
       " '__lt__',\n",
       " '__mod__',\n",
       " '__mul__',\n",
       " '__ne__',\n",
       " '__new__',\n",
       " '__reduce__',\n",
       " '__reduce_ex__',\n",
       " '__repr__',\n",
       " '__rmod__',\n",
       " '__rmul__',\n",
       " '__setattr__',\n",
       " '__sizeof__',\n",
       " '__str__',\n",
       " '__subclasshook__',\n",
       " 'capitalize',\n",
       " 'casefold',\n",
       " 'center',\n",
       " 'count',\n",
       " 'encode',\n",
       " 'endswith',\n",
       " 'expandtabs',\n",
       " 'find',\n",
       " 'format',\n",
       " 'format_map',\n",
       " 'index',\n",
       " 'isalnum',\n",
       " 'isalpha',\n",
       " 'isascii',\n",
       " 'isdecimal',\n",
       " 'isdigit',\n",
       " 'isidentifier',\n",
       " 'islower',\n",
       " 'isnumeric',\n",
       " 'isprintable',\n",
       " 'isspace',\n",
       " 'istitle',\n",
       " 'isupper',\n",
       " 'join',\n",
       " 'ljust',\n",
       " 'lower',\n",
       " 'lstrip',\n",
       " 'maketrans',\n",
       " 'partition',\n",
       " 'removeprefix',\n",
       " 'removesuffix',\n",
       " 'replace',\n",
       " 'rfind',\n",
       " 'rindex',\n",
       " 'rjust',\n",
       " 'rpartition',\n",
       " 'rsplit',\n",
       " 'rstrip',\n",
       " 'split',\n",
       " 'splitlines',\n",
       " 'startswith',\n",
       " 'strip',\n",
       " 'swapcase',\n",
       " 'title',\n",
       " 'translate',\n",
       " 'upper',\n",
       " 'zfill']"
      ]
     },
     "execution_count": 6,
     "metadata": {},
     "output_type": "execute_result"
    }
   ],
   "source": [
    "dir(platzi)"
   ]
  },
  {
   "attachments": {},
   "cell_type": "markdown",
   "metadata": {},
   "source": [
    "- help: cuando creamos funciones, una forma de darle documentacion es anotando las instruciones de como utilizarla. En python se hace con las triples comillas dobles. Casi todas las librerias y/o funciones en pyhton, van a tener estas documentaciones, que se llaman *dot strings* "
   ]
  },
  {
   "cell_type": "code",
   "execution_count": 10,
   "metadata": {},
   "outputs": [],
   "source": [
    "def my_func():\n",
    "    \"\"\"Esto es un texto de ayuda de como utilizar la funcion\"\"\"\n",
    "    pass"
   ]
  },
  {
   "cell_type": "code",
   "execution_count": 9,
   "metadata": {},
   "outputs": [
    {
     "name": "stdout",
     "output_type": "stream",
     "text": [
      "Help on function my_func in module __main__:\n",
      "\n",
      "my_func()\n",
      "    Esto es un texto de ayuda\n",
      "\n"
     ]
    }
   ],
   "source": [
    "help(my_func)"
   ]
  },
  {
   "attachments": {},
   "cell_type": "markdown",
   "metadata": {},
   "source": [
    "## 15. Operaciones con strings y el comando Update\n",
    "\n",
    "Dado que se esta desarrollando un proyecto, el cual esta avanzando, lo copiamos de la clase. El nuevo archivo es *main.py*. Lo modificaremos.\n",
    "\n",
    "Hay una forma muy util de capturar informacion, y es asignar a una variable el valor de *None*. En el siguiente caso, *14_operaciones_string.py*, hasta que no le asignemos un valor a la variable *client_name* nos mantendra en el *while loop*. Si escribimos 'exit' nos sacara del loop. \n",
    "\n",
    "Recordar que en esta implementacion basica en *main.py* los datos de todos los clientes se estan guardando en una cadena de texto."
   ]
  },
  {
   "cell_type": "code",
   "execution_count": 11,
   "metadata": {},
   "outputs": [],
   "source": [
    "client_name = None\n",
    "\n",
    "while not client_name:\n",
    "    client_name = input('What is the client name?: ')\n",
    "\n",
    "    if client_name == 'exit':\n",
    "        client_name = None\n",
    "        break"
   ]
  },
  {
   "attachments": {},
   "cell_type": "markdown",
   "metadata": {},
   "source": [
    "A continuacion agregaremos la opcion de (U)pdate Client, y la respectiva funcion:"
   ]
  },
  {
   "cell_type": "code",
   "execution_count": null,
   "metadata": {},
   "outputs": [],
   "source": [
    "def update_client(client_name, updated_name):\n",
    "    global clients\n",
    "\n",
    "    if client_name in clients:\n",
    "        clients = clients.replace(client_name + ',', updated_name + ',')\n",
    "    else:\n",
    "        print('Client not in client\\'s list')"
   ]
  },
  {
   "attachments": {},
   "cell_type": "markdown",
   "metadata": {},
   "source": [
    "El metodo *replace* remplaza todas las coincidencias dentro de una cadena de texto. "
   ]
  },
  {
   "cell_type": "code",
   "execution_count": 2,
   "metadata": {},
   "outputs": [
    {
     "data": {
      "text/plain": [
       "'jorXYZ jorXYZ jorXYZ contreras contreras camacho'"
      ]
     },
     "execution_count": 2,
     "metadata": {},
     "output_type": "execute_result"
    }
   ],
   "source": [
    "my_name = 'jorge jorge jorge contreras contreras camacho'\n",
    "my_name.replace('ge', 'XYZ')"
   ]
  },
  {
   "attachments": {},
   "cell_type": "markdown",
   "metadata": {},
   "source": [
    "La funcion para borrar clientes funciona de una manera similar. DOnde se sustituye el nombre del ciente y la coma, con un string vacio."
   ]
  },
  {
   "cell_type": "code",
   "execution_count": null,
   "metadata": {},
   "outputs": [],
   "source": [
    "def delete_client(client_name):\n",
    "    global clients\n",
    "\n",
    "    if client_name in clients:\n",
    "        clients = clients.replace(client_name + ',', '')\n",
    "    else:\n",
    "        print('Client not in client\\'s list')"
   ]
  },
  {
   "attachments": {},
   "cell_type": "markdown",
   "metadata": {},
   "source": [
    "## 16. Operaciones con strings y el comando Delete\n",
    "\n",
    "No hay nada nuevo"
   ]
  },
  {
   "attachments": {},
   "cell_type": "markdown",
   "metadata": {},
   "source": [
    "## 17. Slices en Python\n",
    "\n",
    "Es de lo mas util. Python tiene una de las sintaxis más poderosas para manipular secuencias●Esta sintaxis se llama slice (rebanada en español)"
   ]
  },
  {
   "cell_type": "code",
   "execution_count": 4,
   "metadata": {},
   "outputs": [
    {
     "name": "stdout",
     "output_type": "stream",
     "text": [
      "murcielago\n",
      "murcielago\n"
     ]
    }
   ],
   "source": [
    "animal = 'murcielago'\n",
    "print(animal[::])\n",
    "print(animal[:])"
   ]
  },
  {
   "cell_type": "code",
   "execution_count": 6,
   "metadata": {},
   "outputs": [
    {
     "data": {
      "text/plain": [
       "'murcielag'"
      ]
     },
     "execution_count": 6,
     "metadata": {},
     "output_type": "execute_result"
    }
   ],
   "source": [
    "animal[:-1]"
   ]
  },
  {
   "cell_type": "code",
   "execution_count": 7,
   "metadata": {},
   "outputs": [
    {
     "data": {
      "text/plain": [
       "'mrilg'"
      ]
     },
     "execution_count": 7,
     "metadata": {},
     "output_type": "execute_result"
    }
   ],
   "source": [
    "animal[::2]"
   ]
  },
  {
   "cell_type": "code",
   "execution_count": 9,
   "metadata": {},
   "outputs": [
    {
     "data": {
      "text/plain": [
       "'uceao'"
      ]
     },
     "execution_count": 9,
     "metadata": {},
     "output_type": "execute_result"
    }
   ],
   "source": [
    "animal[1::2]"
   ]
  },
  {
   "cell_type": "code",
   "execution_count": 10,
   "metadata": {},
   "outputs": [
    {
     "data": {
      "text/plain": [
       "'ogaleicrum'"
      ]
     },
     "execution_count": 10,
     "metadata": {},
     "output_type": "execute_result"
    }
   ],
   "source": [
    "animal[::-1]"
   ]
  },
  {
   "cell_type": "code",
   "execution_count": 11,
   "metadata": {},
   "outputs": [
    {
     "data": {
      "text/plain": [
       "'mcl'"
      ]
     },
     "execution_count": 11,
     "metadata": {},
     "output_type": "execute_result"
    }
   ],
   "source": [
    "animal[:8:3]"
   ]
  },
  {
   "cell_type": "code",
   "execution_count": 12,
   "metadata": {},
   "outputs": [
    {
     "data": {
      "text/plain": [
       "True"
      ]
     },
     "execution_count": 12,
     "metadata": {},
     "output_type": "execute_result"
    }
   ],
   "source": [
    "new_animal = animal\n",
    "id(animal) == id(new_animal)"
   ]
  },
  {
   "attachments": {},
   "cell_type": "markdown",
   "metadata": {},
   "source": [
    "## For loops\n",
    "\n",
    "La funcion *range* genera una secuencia de numeros, y es un objeto tipo rango. Dicho objeto es un iterador sobre el cual podemos generar secuencias, y es algo nuevo en *Python3*. \n",
    "\n",
    "En versiones anteriores, el comportamiento de la funcion *range* era generar la secuencia inmediatamente, pero esto tiene algunos inconvenientes: Si por ejemplo se generaba una secuencia muy larga, de 100 millones por ejemplo, esa secuencia se generaba en ese mismo momento y se ocupaba mucha memoria. \n",
    "\n",
    "Ahora en Python3, es solo un objeto sobre el cual podemos generar iteraciones. "
   ]
  },
  {
   "cell_type": "code",
   "execution_count": 17,
   "metadata": {},
   "outputs": [
    {
     "name": "stdout",
     "output_type": "stream",
     "text": [
      "<class 'range'>\n"
     ]
    }
   ],
   "source": [
    "object = range(10)\n",
    "print(type(object))"
   ]
  },
  {
   "cell_type": "code",
   "execution_count": 18,
   "metadata": {},
   "outputs": [
    {
     "name": "stdout",
     "output_type": "stream",
     "text": [
      "0\n",
      "2\n",
      "4\n",
      "6\n",
      "8\n"
     ]
    }
   ],
   "source": [
    "for i in range(0,10,2):\n",
    "    print(i)"
   ]
  },
  {
   "attachments": {},
   "cell_type": "markdown",
   "metadata": {},
   "source": [
    "A continuacion, agregaremos una nueva funcion al proyecto *main.py* para la funcion de busqueda.\n",
    "\n",
    "Recuerda todas las funciones en Python regresan *None*, a menos que le indiquemos lo que debe retornar mediante un *return*\n",
    "\n",
    "Aqui una implementacion de la funcion:"
   ]
  },
  {
   "cell_type": "code",
   "execution_count": null,
   "metadata": {},
   "outputs": [],
   "source": [
    "def search_client(client_name):\n",
    "    global clients\n",
    "\n",
    "    if client_name in clients:\n",
    "        return True\n",
    "    \n",
    "    return False"
   ]
  },
  {
   "attachments": {},
   "cell_type": "markdown",
   "metadata": {},
   "source": [
    "El statement *return* termina la ejecucion de la funcion y retorna un valor.\n",
    "\n",
    "A continuacion veremos una segunda implementacion, usando el metodo *split*. Dicho metodo retorna una lista, donde separamos los valores de una cadena de texto de acuerdo al un caracter, en este caso la coma."
   ]
  },
  {
   "cell_type": "code",
   "execution_count": 20,
   "metadata": {},
   "outputs": [
    {
     "data": {
      "text/plain": [
       "list"
      ]
     },
     "execution_count": 20,
     "metadata": {},
     "output_type": "execute_result"
    }
   ],
   "source": [
    "clients = 'armando, oscar, andres'\n",
    "type(clients.split(','))"
   ]
  },
  {
   "cell_type": "code",
   "execution_count": null,
   "metadata": {},
   "outputs": [],
   "source": [
    "def search_client(client_name):\n",
    "    global clients\n",
    "    client_list = clients.split(',')\n",
    "\n",
    "    for client in client_list:\n",
    "        if client_name == client:\n",
    "            return True\n",
    "    \n",
    "    return False"
   ]
  },
  {
   "attachments": {},
   "cell_type": "markdown",
   "metadata": {},
   "source": [
    "Aqui una tercera posible implementacion usando *continue*. "
   ]
  },
  {
   "cell_type": "code",
   "execution_count": null,
   "metadata": {},
   "outputs": [],
   "source": [
    "def search_client(client_name):\n",
    "    global clients\n",
    "    client_list = clients.split(',')\n",
    "\n",
    "    for client in client_list:\n",
    "        if client_name != client:\n",
    "            continue\n",
    "        else:\n",
    "            return True"
   ]
  },
  {
   "attachments": {},
   "cell_type": "markdown",
   "metadata": {},
   "source": [
    "Si el cliente esta en la lista de clientes *retorna* True, pero si no lo encuentra la funcion no retorna nada, es decir retorna None. "
   ]
  },
  {
   "attachments": {},
   "cell_type": "markdown",
   "metadata": {},
   "source": [
    "## 19. While loops\n",
    "\n",
    "Se itera mientras una condicion sea verdadera. \n",
    "\n",
    "Un error comun es cuando en un loop infinito, llega a tal punto que se acaba la memoria, generano un **stackoverflow**\n",
    "\n",
    "A continuacion, integraremos el *while loop* en nuestro proyecto de Platzi Ventas. \n",
    "\n",
    "Muchas veces se requiere el usuario de un valor para continuar ejectuando el programa. En el siguiente codigo, hasta que el usuario no ingrese un dato, en este caso el *nombre del cliente*\n",
    "\n",
    "Cuando inicializamos la variable a *None* es la forma de decirla a Python no hay un valor\n",
    "\n",
    "    client_name = None\n",
    "\n",
    "Hay dos condiciones que se complen para poder salir del while loop:\n",
    "\n",
    "- Que el cliente deje de ser None\n",
    "- Que se ingrese el texto *exit*\n",
    "\n",
    "\n",
    "Haremos uso del modulo *sys* del sistema, para salir del programa, dado el caso no se ingrese ningun valor. Recuerda importar sys\n",
    "\n",
    "    import sys"
   ]
  },
  {
   "cell_type": "code",
   "execution_count": null,
   "metadata": {},
   "outputs": [],
   "source": [
    "def _get_client_name():\n",
    "    client_name = None\n",
    "\n",
    "    while not client_name:\n",
    "        client_name = input('What is the client name?: ')\n",
    "\n",
    "        if client_name == 'exit':\n",
    "            client_name = None\n",
    "            break\n",
    "\n",
    "    if not client_name:\n",
    "        sys.exit()\n",
    "\n",
    "    return client_name"
   ]
  }
 ],
 "metadata": {
  "kernelspec": {
   "display_name": "env",
   "language": "python",
   "name": "python3"
  },
  "language_info": {
   "codemirror_mode": {
    "name": "ipython",
    "version": 3
   },
   "file_extension": ".py",
   "mimetype": "text/x-python",
   "name": "python",
   "nbconvert_exporter": "python",
   "pygments_lexer": "ipython3",
   "version": "3.10.6"
  },
  "orig_nbformat": 4
 },
 "nbformat": 4,
 "nbformat_minor": 2
}
