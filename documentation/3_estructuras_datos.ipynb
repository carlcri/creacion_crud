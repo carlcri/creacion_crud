{
 "cells": [
  {
   "attachments": {},
   "cell_type": "markdown",
   "metadata": {},
   "source": [
    "# Estructuras de Datos"
   ]
  },
  {
   "attachments": {},
   "cell_type": "markdown",
   "metadata": {},
   "source": [
    "## Operaciones con listas\n",
    "\n",
    "Los strings en *python* son inmutables, no se pueden modificar ni las letras ni su tamaño. EN las listas podemos modificar los elementos, agregar nuevos, \n",
    "\n",
    "### Metodos\n",
    "\n",
    "- append\n",
    "- pop: sacar el último elemento de la lista. También recibe un índice y esto nos permite elegir qué elemento queremos eliminar.\n",
    "\n",
    "- sort\n",
    "\n",
    "- del: permite eliminar elementos vía indices, funciona con slices\n",
    "\n",
    "- remove: permite pasarle un valor para que Python compare internamente los valores y determina cuál de ellos hace match o son iguales para eliminarlos.\n",
    "\n",
    "- index"
   ]
  },
  {
   "attachments": {},
   "cell_type": "markdown",
   "metadata": {},
   "source": [
    "### Operaciones con listas\n",
    "\n",
    "Suma y Multiplicacion"
   ]
  },
  {
   "cell_type": "code",
   "execution_count": 1,
   "metadata": {},
   "outputs": [
    {
     "data": {
      "text/plain": [
       "[1, 2, 3, 4]"
      ]
     },
     "execution_count": 1,
     "metadata": {},
     "output_type": "execute_result"
    }
   ],
   "source": [
    "a = [1, 2]\n",
    "b = [3, 4]\n",
    "\n",
    "a+b"
   ]
  },
  {
   "cell_type": "code",
   "execution_count": 2,
   "metadata": {},
   "outputs": [
    {
     "data": {
      "text/plain": [
       "[1, 2, 1, 2]"
      ]
     },
     "execution_count": 2,
     "metadata": {},
     "output_type": "execute_result"
    }
   ],
   "source": [
    "a*2"
   ]
  },
  {
   "attachments": {},
   "cell_type": "markdown",
   "metadata": {},
   "source": [
    "### Las listas como fuentes de bugs\n",
    "\n",
    "En una lista guardamos animales, y en otra lista hacecos un backup"
   ]
  },
  {
   "cell_type": "code",
   "execution_count": 3,
   "metadata": {},
   "outputs": [],
   "source": [
    "lista = ['dog', 'cat', 'pig']\n",
    "lista_bkp = lista"
   ]
  },
  {
   "attachments": {},
   "cell_type": "markdown",
   "metadata": {},
   "source": [
    "Si ahora realizamos una modificacion a la lista original, por ejemplo agregando un nuevo elemento:"
   ]
  },
  {
   "cell_type": "code",
   "execution_count": 4,
   "metadata": {},
   "outputs": [],
   "source": [
    "lista.append('zorro')"
   ]
  },
  {
   "attachments": {},
   "cell_type": "markdown",
   "metadata": {},
   "source": [
    "Ahora, uno esperaria que *lista_bkp* solo tuviera tres elementos inciales, pero no.😱"
   ]
  },
  {
   "cell_type": "code",
   "execution_count": 6,
   "metadata": {},
   "outputs": [
    {
     "data": {
      "text/plain": [
       "['dog', 'cat', 'pig', 'zorro']"
      ]
     },
     "execution_count": 6,
     "metadata": {},
     "output_type": "execute_result"
    }
   ],
   "source": [
    "lista_bkp"
   ]
  },
  {
   "attachments": {},
   "cell_type": "markdown",
   "metadata": {},
   "source": [
    "Esto ocurre porque ambas listas apuntan al mismo objeto en memoria."
   ]
  },
  {
   "cell_type": "code",
   "execution_count": 7,
   "metadata": {},
   "outputs": [
    {
     "data": {
      "text/plain": [
       "True"
      ]
     },
     "execution_count": 7,
     "metadata": {},
     "output_type": "execute_result"
    }
   ],
   "source": [
    "id(lista)==id(lista_bkp)"
   ]
  },
  {
   "attachments": {},
   "cell_type": "markdown",
   "metadata": {},
   "source": [
    "**Para evitar esto:**"
   ]
  },
  {
   "cell_type": "code",
   "execution_count": 19,
   "metadata": {},
   "outputs": [
    {
     "data": {
      "text/plain": [
       "['dog', 'cat', 'pig', 'rana']"
      ]
     },
     "execution_count": 19,
     "metadata": {},
     "output_type": "execute_result"
    }
   ],
   "source": [
    "import copy\n",
    "\n",
    "lista = ['dog', 'cat', 'pig']\n",
    "\n",
    "lista_bkp = None\n",
    "lista_bkp = copy.copy(lista)\n",
    "\n",
    "lista.append('rana')\n",
    "lista\n"
   ]
  },
  {
   "cell_type": "code",
   "execution_count": 20,
   "metadata": {},
   "outputs": [
    {
     "data": {
      "text/plain": [
       "['dog', 'cat', 'pig']"
      ]
     },
     "execution_count": 20,
     "metadata": {},
     "output_type": "execute_result"
    }
   ],
   "source": [
    "lista_bkp"
   ]
  },
  {
   "attachments": {},
   "cell_type": "markdown",
   "metadata": {},
   "source": [
    "## Agregando listas al proyecto\n",
    "\n",
    "Antes:\n",
    "    clients = 'pablo,ricardo,oscar'\n",
    "\n",
    "Despues:\n",
    "\n",
    "    clients = ['Pablo','Ricardo','Oscar']\n",
    "\n",
    "### Corriendo scripst de bash en Python\n",
    "\n",
    "- Executing bash command using Python os module\n",
    "\n",
    "Using os module also, we can execute bash command. Here, we have executed a bash command to find the current date.\n",
    "\n",
    "https://www.geeksforgeeks.org/how-to-run-bash-script-in-python/"
   ]
  },
  {
   "cell_type": "code",
   "execution_count": 21,
   "metadata": {},
   "outputs": [
    {
     "name": "stdout",
     "output_type": "stream",
     "text": [
      "Today is: Monday 20 March\n"
     ]
    },
    {
     "data": {
      "text/plain": [
       "0"
      ]
     },
     "execution_count": 21,
     "metadata": {},
     "output_type": "execute_result"
    }
   ],
   "source": [
    "import os\n",
    " \n",
    "os.system('date +\"Today is: %A %d %B\"')"
   ]
  },
  {
   "attachments": {},
   "cell_type": "markdown",
   "metadata": {},
   "source": [
    "Y aqui usando lolcat"
   ]
  },
  {
   "cell_type": "code",
   "execution_count": 22,
   "metadata": {},
   "outputs": [
    {
     "name": "stdout",
     "output_type": "stream",
     "text": [
      "hola\n"
     ]
    },
    {
     "data": {
      "text/plain": [
       "0"
      ]
     },
     "execution_count": 22,
     "metadata": {},
     "output_type": "execute_result"
    }
   ],
   "source": [
    "os.system('echo hola | lolcat')"
   ]
  },
  {
   "attachments": {},
   "cell_type": "markdown",
   "metadata": {},
   "source": [
    "## Diccionarios\n",
    "\n",
    "Los diccionarios se conocen con diferentes nombres a lo largo de los lenguajes de programación como HashMaps, Mapas, Objetos, etc. En Python se conocen como Diccionarios.\n",
    "\n",
    "Un diccionario es similar a una lista sabiendo que podemos acceder a través de un indice, pero en el caso de las listas este índice debe ser un número entero. Con los diccionarios puede ser cualquier objeto, normalmente los verán con strings para ser más explicitos, pero funcionan con muchos tipos de llaves…\n",
    "\n",
    "Un diccionario es una asociación entre llaves(keys) y valores(values) y la referencia en Python es muy precisa. Si abres un diccionario verás muchas palabras y cada palabra tiene su definición.\n",
    "\n",
    "Para iniciar un diccionario se usa {} o con la función **dict**\n",
    "\n",
    "Estos también tienen varios métodos. Siempre puedes usar la función **dir** para saber todos los métodos que puedes usar con un objeto."
   ]
  },
  {
   "cell_type": "code",
   "execution_count": 8,
   "metadata": {},
   "outputs": [
    {
     "data": {
      "text/plain": [
       "{}"
      ]
     },
     "execution_count": 8,
     "metadata": {},
     "output_type": "execute_result"
    }
   ],
   "source": [
    "client = dict()\n",
    "client"
   ]
  },
  {
   "attachments": {},
   "cell_type": "markdown",
   "metadata": {},
   "source": [
    "Para todos los metodos"
   ]
  },
  {
   "cell_type": "code",
   "execution_count": 9,
   "metadata": {},
   "outputs": [
    {
     "data": {
      "text/plain": [
       "['__class__',\n",
       " '__class_getitem__',\n",
       " '__contains__',\n",
       " '__delattr__',\n",
       " '__delitem__',\n",
       " '__dir__',\n",
       " '__doc__',\n",
       " '__eq__',\n",
       " '__format__',\n",
       " '__ge__',\n",
       " '__getattribute__',\n",
       " '__getitem__',\n",
       " '__gt__',\n",
       " '__hash__',\n",
       " '__init__',\n",
       " '__init_subclass__',\n",
       " '__ior__',\n",
       " '__iter__',\n",
       " '__le__',\n",
       " '__len__',\n",
       " '__lt__',\n",
       " '__ne__',\n",
       " '__new__',\n",
       " '__or__',\n",
       " '__reduce__',\n",
       " '__reduce_ex__',\n",
       " '__repr__',\n",
       " '__reversed__',\n",
       " '__ror__',\n",
       " '__setattr__',\n",
       " '__setitem__',\n",
       " '__sizeof__',\n",
       " '__str__',\n",
       " '__subclasshook__',\n",
       " 'clear',\n",
       " 'copy',\n",
       " 'fromkeys',\n",
       " 'get',\n",
       " 'items',\n",
       " 'keys',\n",
       " 'pop',\n",
       " 'popitem',\n",
       " 'setdefault',\n",
       " 'update',\n",
       " 'values']"
      ]
     },
     "execution_count": 9,
     "metadata": {},
     "output_type": "execute_result"
    }
   ],
   "source": [
    "dir(client)"
   ]
  },
  {
   "cell_type": "code",
   "execution_count": 17,
   "metadata": {},
   "outputs": [],
   "source": [
    "client.update({\"name\": \"oscar\"})\n",
    "client.update({'salary': 2300})\n",
    "client['city'] = 'Montreal'\n",
    "client.update({'languajes': ['php', 'python', 'C++']})"
   ]
  },
  {
   "attachments": {},
   "cell_type": "markdown",
   "metadata": {},
   "source": [
    "### Iterando en un dict\n",
    "\n",
    "- keys: nos imprime una lista de las llaves\n",
    "- values nos imprime una lista de los valores\n",
    "- items. nos manda una lista de tuplas de los valores"
   ]
  },
  {
   "cell_type": "code",
   "execution_count": 19,
   "metadata": {},
   "outputs": [
    {
     "name": "stdout",
     "output_type": "stream",
     "text": [
      "name\n",
      "salary\n",
      "city\n",
      "languajes\n"
     ]
    }
   ],
   "source": [
    "for key in client.keys():\n",
    "    print(key)"
   ]
  },
  {
   "cell_type": "code",
   "execution_count": 20,
   "metadata": {},
   "outputs": [
    {
     "name": "stdout",
     "output_type": "stream",
     "text": [
      "oscar\n",
      "2300\n",
      "Montreal\n",
      "['php', 'python', 'C++']\n"
     ]
    }
   ],
   "source": [
    "for value in client.values():\n",
    "    print(value)"
   ]
  },
  {
   "cell_type": "code",
   "execution_count": 21,
   "metadata": {},
   "outputs": [
    {
     "name": "stdout",
     "output_type": "stream",
     "text": [
      "name: oscar\n",
      "salary: 2300\n",
      "city: Montreal\n",
      "languajes: ['php', 'python', 'C++']\n"
     ]
    }
   ],
   "source": [
    "for key, value in client.items():\n",
    "    print(f'{key}: {value}')"
   ]
  },
  {
   "attachments": {},
   "cell_type": "markdown",
   "metadata": {},
   "source": [
    "## Agregando diccionarios a nuestro proyecto\n",
    "\n"
   ]
  },
  {
   "cell_type": "code",
   "execution_count": 31,
   "metadata": {},
   "outputs": [],
   "source": [
    "CLIENTS = [\n",
    "    {\n",
    "        'name': 'Pablo',\n",
    "        'company': 'Google',\n",
    "        'email': 'pablo@google.com',\n",
    "        'position': 'Software Engineer',\n",
    "    },\n",
    "    {\n",
    "        'name': 'Ricardo',\n",
    "        'company': 'Facebook',\n",
    "        'email': 'ricardo@facebook.com',\n",
    "        'position': 'Data Engineer',\n",
    "    },\n",
    "    {\n",
    "        'name': 'Mark',\n",
    "        'company': 'Yahoo',\n",
    "        'email': 'marc001@yahoo.com',\n",
    "        'position': 'Frontend Developer',\n",
    "    }\n",
    "]"
   ]
  },
  {
   "attachments": {},
   "cell_type": "markdown",
   "metadata": {},
   "source": [
    "La funcion search_clients se modifico de tal manera que retorna el indice dentro de la lista de dicionarios si encuentra el nombre del cliente, de lo contrario la funcion no retorna nada"
   ]
  },
  {
   "cell_type": "code",
   "execution_count": 41,
   "metadata": {},
   "outputs": [],
   "source": [
    "def search_client(client_name):\n",
    "    global CLIENTS\n",
    "\n",
    "    for idx, client in enumerate(CLIENTS):\n",
    "        if client_name != client['name']:\n",
    "            continue\n",
    "        else:\n",
    "            return idx"
   ]
  },
  {
   "cell_type": "code",
   "execution_count": 48,
   "metadata": {},
   "outputs": [
    {
     "name": "stdout",
     "output_type": "stream",
     "text": [
      "peco\n"
     ]
    }
   ],
   "source": [
    "user_client = \"Marka\"\n",
    "search_client(user_client)\n",
    "\n",
    "if not 2:\n",
    "    print('hola')\n",
    "else:\n",
    "    print('peco')"
   ]
  },
  {
   "attachments": {},
   "cell_type": "markdown",
   "metadata": {},
   "source": [
    "Se crea la funcion _get_client_field"
   ]
  },
  {
   "cell_type": "code",
   "execution_count": 29,
   "metadata": {},
   "outputs": [],
   "source": [
    "import sys\n",
    "\n",
    "def _get_client_field(field):\n",
    "    client_field = None\n",
    "\n",
    "    while not client_field:\n",
    "        client_field = input(f'{field} of the client?: ').capitalize()\n",
    "\n",
    "        if client_field == 'exit':\n",
    "            client_field = None\n",
    "            break\n",
    "\n",
    "    if not client_field:\n",
    "        sys.exit()\n",
    "\n",
    "    return client_field"
   ]
  },
  {
   "attachments": {},
   "cell_type": "markdown",
   "metadata": {},
   "source": [
    "## Tuplas y COnjuntos\n",
    "\n",
    "### Tuplas\n",
    "\n",
    "Tuplas(tuples) son iguales a las listas, la única diferencia es que son **inmutables**, la diferencia con los strings es que pueden recibir muchos tipos valores. Son una serie de valores separados por comas, \n"
   ]
  },
  {
   "cell_type": "code",
   "execution_count": 3,
   "metadata": {},
   "outputs": [],
   "source": [
    "tupla = 1, 2, 'a', [1,-4]"
   ]
  },
  {
   "attachments": {},
   "cell_type": "markdown",
   "metadata": {},
   "source": [
    "casi siempre se le agregan paréntesis para que sea mucho más legible."
   ]
  },
  {
   "cell_type": "code",
   "execution_count": 5,
   "metadata": {},
   "outputs": [
    {
     "data": {
      "text/plain": [
       "(21, 34, [-5, 8], {'animal': 'wolf'})"
      ]
     },
     "execution_count": 5,
     "metadata": {},
     "output_type": "execute_result"
    }
   ],
   "source": [
    "tupla = (21, 34, [-5, 8], {'animal': 'wolf'})\n",
    "tupla"
   ]
  },
  {
   "attachments": {},
   "cell_type": "markdown",
   "metadata": {},
   "source": [
    "Se puede acceder por indice"
   ]
  },
  {
   "cell_type": "code",
   "execution_count": 7,
   "metadata": {},
   "outputs": [
    {
     "data": {
      "text/plain": [
       "[-5, 8]"
      ]
     },
     "execution_count": 7,
     "metadata": {},
     "output_type": "execute_result"
    }
   ],
   "source": [
    "tupla[2]"
   ]
  },
  {
   "attachments": {},
   "cell_type": "markdown",
   "metadata": {},
   "source": [
    "\n",
    "Para poderla inicializar podemos usar la función **tuple**.\n"
   ]
  },
  {
   "cell_type": "code",
   "execution_count": 8,
   "metadata": {},
   "outputs": [
    {
     "data": {
      "text/plain": [
       "('a', 'm', 'a', 'z', 'o', 'n')"
      ]
     },
     "execution_count": 8,
     "metadata": {},
     "output_type": "execute_result"
    }
   ],
   "source": [
    "tuple('amazon')"
   ]
  },
  {
   "cell_type": "markdown",
   "metadata": {},
   "source": [
    "\n",
    "Uno de sus usos muy comunes es cuando queremos regresar **más de un valor** en nuestra función.\n"
   ]
  },
  {
   "cell_type": "code",
   "execution_count": 6,
   "metadata": {},
   "outputs": [],
   "source": [
    "x = 12\n",
    "y = 21\n",
    "z= 0\n",
    "\n",
    "coordinate = x, y, z"
   ]
  },
  {
   "attachments": {},
   "cell_type": "markdown",
   "metadata": {},
   "source": [
    "#### Inmutabiliad de las tuplas\n",
    "\n",
    "si por ejemplo:"
   ]
  },
  {
   "cell_type": "code",
   "execution_count": null,
   "metadata": {},
   "outputs": [],
   "source": [
    "tupla = tuple('naranja')\n",
    "tupla[1] = 'z'"
   ]
  },
  {
   "cell_type": "markdown",
   "metadata": {},
   "source": [
    "\n",
    "\n",
    "![](https://i.imgur.com/jDla6uQ.png)"
   ]
  },
  {
   "attachments": {},
   "cell_type": "markdown",
   "metadata": {},
   "source": [
    "#### Metodos tupla\n",
    "\n",
    "- count: cuantas veces aparece un determinado valor\n",
    "- index: el indice de la primera isntancia donde aparece un elemento"
   ]
  },
  {
   "cell_type": "code",
   "execution_count": 14,
   "metadata": {},
   "outputs": [
    {
     "name": "stdout",
     "output_type": "stream",
     "text": [
      "2\n"
     ]
    },
    {
     "data": {
      "text/plain": [
       "4"
      ]
     },
     "execution_count": 14,
     "metadata": {},
     "output_type": "execute_result"
    }
   ],
   "source": [
    "tupla = tuple('mariposa')\n",
    "print(tupla.count('a'))\n",
    "tupla.index('p')"
   ]
  },
  {
   "attachments": {},
   "cell_type": "markdown",
   "metadata": {},
   "source": [
    "\n",
    "### Conjutos(sets) \n",
    "\n",
    "nacen de la teoría de conjuntos. Son una de las Estructuras más importantes y se parecen a las listas, podemos añadir varios elementos al conjunto, pero **no pueden existir elementos duplicados**. A diferencia de los tuples podemos agregar y eliminar, son mutables.\n",
    "\n",
    "Los sets se pueden inicializar con la función set. \n",
    "\n",
    "Una recomendación es inicializarlos con esta función para no causar confusión con los diccionarios.\n",
    "\n",
    "- add: añadir elementos.\n",
    "- remove: eliminar elementos."
   ]
  },
  {
   "cell_type": "code",
   "execution_count": 25,
   "metadata": {},
   "outputs": [
    {
     "data": {
      "text/plain": [
       "set"
      ]
     },
     "execution_count": 25,
     "metadata": {},
     "output_type": "execute_result"
    }
   ],
   "source": [
    "set_a = set([3, 6, 8])\n",
    "type(set_a)"
   ]
  },
  {
   "attachments": {},
   "cell_type": "markdown",
   "metadata": {},
   "source": [
    "Tambien se puede definir con llaves"
   ]
  },
  {
   "cell_type": "code",
   "execution_count": 26,
   "metadata": {},
   "outputs": [],
   "source": [
    "set_b = { 6, 1 } "
   ]
  },
  {
   "attachments": {},
   "cell_type": "markdown",
   "metadata": {},
   "source": [
    "#### Los sets no tienen un orden implicito\n",
    "\n",
    "Por lo que esto dara un error:\n",
    "\n",
    "    set_b[0]\n",
    "\n",
    "    TypeError: 'set' object is not subscriptable"
   ]
  },
  {
   "attachments": {},
   "cell_type": "markdown",
   "metadata": {},
   "source": [
    "#### Los sets no admiten duplicados\n",
    "\n",
    "Al añadir un elemento que ya estaba, no se modifica."
   ]
  },
  {
   "cell_type": "code",
   "execution_count": 23,
   "metadata": {},
   "outputs": [
    {
     "data": {
      "text/plain": [
       "{3, 6, 8}"
      ]
     },
     "execution_count": 23,
     "metadata": {},
     "output_type": "execute_result"
    }
   ],
   "source": [
    "set_a.add(3)\n",
    "set_a"
   ]
  },
  {
   "attachments": {},
   "cell_type": "markdown",
   "metadata": {},
   "source": [
    "#### Interseccion, unio, etc"
   ]
  },
  {
   "cell_type": "code",
   "execution_count": 27,
   "metadata": {},
   "outputs": [
    {
     "data": {
      "text/plain": [
       "{6}"
      ]
     },
     "execution_count": 27,
     "metadata": {},
     "output_type": "execute_result"
    }
   ],
   "source": [
    "set_a.intersection(set_b)"
   ]
  },
  {
   "cell_type": "code",
   "execution_count": 28,
   "metadata": {},
   "outputs": [
    {
     "data": {
      "text/plain": [
       "{1, 3, 6, 8}"
      ]
     },
     "execution_count": 28,
     "metadata": {},
     "output_type": "execute_result"
    }
   ],
   "source": [
    "set_a.union(set_b)"
   ]
  },
  {
   "cell_type": "code",
   "execution_count": 29,
   "metadata": {},
   "outputs": [
    {
     "data": {
      "text/plain": [
       "{3, 8}"
      ]
     },
     "execution_count": 29,
     "metadata": {},
     "output_type": "execute_result"
    }
   ],
   "source": [
    "set_a.difference(set_b)"
   ]
  },
  {
   "cell_type": "code",
   "execution_count": 30,
   "metadata": {},
   "outputs": [
    {
     "data": {
      "text/plain": [
       "{1}"
      ]
     },
     "execution_count": 30,
     "metadata": {},
     "output_type": "execute_result"
    }
   ],
   "source": [
    "set_b.difference(set_a)"
   ]
  },
  {
   "attachments": {},
   "cell_type": "markdown",
   "metadata": {},
   "source": [
    "## Comprehensions\n",
    "\n",
    "- List comprehensions\n",
    "- Dictionary Comprehensions\n",
    "- Set comprehensions"
   ]
  },
  {
   "attachments": {},
   "cell_type": "markdown",
   "metadata": {},
   "source": [
    "### List comprehensions"
   ]
  },
  {
   "cell_type": "code",
   "execution_count": 33,
   "metadata": {},
   "outputs": [
    {
     "data": {
      "text/plain": [
       "[25, 225, 625, 1225, 2025, 3025, 4225, 5625, 7225, 9025]"
      ]
     },
     "execution_count": 33,
     "metadata": {},
     "output_type": "execute_result"
    }
   ],
   "source": [
    "[ i**2 for i in range(0,100,5) if i%2 != 0]"
   ]
  },
  {
   "attachments": {},
   "cell_type": "markdown",
   "metadata": {},
   "source": [
    "Para hacerlo mas legigle, cambiar la variable"
   ]
  },
  {
   "cell_type": "code",
   "execution_count": 64,
   "metadata": {},
   "outputs": [
    {
     "data": {
      "text/plain": [
       "[7, 4, 9, 7]"
      ]
     },
     "execution_count": 64,
     "metadata": {},
     "output_type": "execute_result"
    }
   ],
   "source": [
    "import random\n",
    "\n",
    "[random.randint(0,10) for i in range(4)]"
   ]
  },
  {
   "attachments": {},
   "cell_type": "markdown",
   "metadata": {},
   "source": [
    "### Dictionary Comprehenzions"
   ]
  },
  {
   "cell_type": "code",
   "execution_count": 37,
   "metadata": {},
   "outputs": [
    {
     "data": {
      "text/plain": [
       "{10: 100, 12: 144, 14: 196, 16: 256, 18: 324}"
      ]
     },
     "execution_count": 37,
     "metadata": {},
     "output_type": "execute_result"
    }
   ],
   "source": [
    "new_dict_comp = {n:n**2 for n in range(10,20) if n%2 == 0}\n",
    "new_dict_comp"
   ]
  },
  {
   "cell_type": "code",
   "execution_count": 45,
   "metadata": {},
   "outputs": [],
   "source": [
    "student_uid = [ 100, 101, 102]\n",
    "students = ['oscar', 'lucas', 'linda']\n",
    "\n",
    "students_with_id = {uid: student for uid, student in zip(student_uid, students)}\n"
   ]
  },
  {
   "cell_type": "code",
   "execution_count": 46,
   "metadata": {},
   "outputs": [
    {
     "data": {
      "text/plain": [
       "{100: 'oscar', 101: 'lucas', 102: 'linda'}"
      ]
     },
     "execution_count": 46,
     "metadata": {},
     "output_type": "execute_result"
    }
   ],
   "source": [
    "students_with_id"
   ]
  },
  {
   "attachments": {},
   "cell_type": "markdown",
   "metadata": {},
   "source": [
    "#### Otro ejemplo"
   ]
  },
  {
   "cell_type": "code",
   "execution_count": 55,
   "metadata": {},
   "outputs": [],
   "source": [
    "fields = ['city', 'population', 'country', 'temperature']\n",
    "values = ['Cali', 500, 'COL', 25]\n",
    "\n",
    "my_city = {field: value for field, value in zip(fields,values)}"
   ]
  },
  {
   "cell_type": "code",
   "execution_count": 57,
   "metadata": {},
   "outputs": [
    {
     "data": {
      "text/plain": [
       "{'city': 'Cali', 'population': 500, 'country': 'COL', 'temperature': 25}"
      ]
     },
     "execution_count": 57,
     "metadata": {},
     "output_type": "execute_result"
    }
   ],
   "source": [
    "my_city"
   ]
  },
  {
   "attachments": {},
   "cell_type": "markdown",
   "metadata": {},
   "source": [
    "###  Set Comprehensions\n",
    "\n",
    "Para eliminar los repetidos de una lista generada aleatoriamente\n"
   ]
  },
  {
   "cell_type": "code",
   "execution_count": 67,
   "metadata": {},
   "outputs": [
    {
     "data": {
      "text/plain": [
       "[1, 5, 2, 3, 1, 1, 5, 5, 6, 6, 2, 10, 5, 2, 3, 1, 5, 4, 6, 10]"
      ]
     },
     "execution_count": 67,
     "metadata": {},
     "output_type": "execute_result"
    }
   ],
   "source": [
    "import random\n",
    "\n",
    "numbers = [random.randint(0,10) for i in range(20)]\n",
    "numbers"
   ]
  },
  {
   "cell_type": "code",
   "execution_count": 68,
   "metadata": {},
   "outputs": [
    {
     "data": {
      "text/plain": [
       "{1, 2, 3, 4, 5, 6, 10}"
      ]
     },
     "execution_count": 68,
     "metadata": {},
     "output_type": "execute_result"
    }
   ],
   "source": [
    "non_repeated = {number for number in numbers}\n",
    "non_repeated"
   ]
  },
  {
   "attachments": {},
   "cell_type": "markdown",
   "metadata": {},
   "source": [
    "## Busquedas Binarias\n",
    "\n",
    "Uno de los conceptos más importantes que debes entender en tu carrera dentro de la programación son los algoritmos. No son más que una secuencia de instrucciones para resolver un problema específico.\n",
    "\n",
    "Búsqueda binaria lo único que hace es tratar de encontrar un resultado en una lista ordenada de tal manera que podamos razonar. Si tenemos un elemento mayor que otro, podemos simplemente usar la mitad de la lista cada vez.\n",
    "\n",
    "### Conocimiento extra diferencia entre *sort* y *sorted*\n",
    "\n",
    "Crearemos una lista de elementos aleatorios, y eliminaremos los elementos repetidos mediate un *set comprhensions*"
   ]
  },
  {
   "cell_type": "code",
   "execution_count": 16,
   "metadata": {},
   "outputs": [
    {
     "data": {
      "text/plain": [
       "16"
      ]
     },
     "execution_count": 16,
     "metadata": {},
     "output_type": "execute_result"
    }
   ],
   "source": [
    "import random\n",
    "\n",
    "numbers = [random.randint(50,100) for i in range(20)]\n",
    "\n",
    "numbers = {number for number in numbers}\n",
    "\n",
    "len(numbers)"
   ]
  },
  {
   "cell_type": "code",
   "execution_count": 17,
   "metadata": {},
   "outputs": [
    {
     "name": "stdout",
     "output_type": "stream",
     "text": [
      "<class 'set'>\n"
     ]
    },
    {
     "data": {
      "text/plain": [
       "list"
      ]
     },
     "execution_count": 17,
     "metadata": {},
     "output_type": "execute_result"
    }
   ],
   "source": [
    "print(type(numbers))\n",
    "numbers = list(numbers)\n",
    "type(numbers)"
   ]
  },
  {
   "attachments": {},
   "cell_type": "markdown",
   "metadata": {},
   "source": [
    "Aqui tenemos la lista sin ordenar"
   ]
  },
  {
   "cell_type": "code",
   "execution_count": 18,
   "metadata": {},
   "outputs": [
    {
     "data": {
      "text/plain": [
       "[64, 97, 98, 96, 70, 72, 78, 79, 50, 51, 82, 88, 89, 56, 91, 93]"
      ]
     },
     "execution_count": 18,
     "metadata": {},
     "output_type": "execute_result"
    }
   ],
   "source": [
    "numbers"
   ]
  },
  {
   "attachments": {},
   "cell_type": "markdown",
   "metadata": {},
   "source": [
    "Si aplicamos el metodo *sort()* se ordena la lista en si misma. Mientras que *sorted* es una funcion que retorna una lista ordenada sin modificar el objeto "
   ]
  },
  {
   "cell_type": "code",
   "execution_count": 20,
   "metadata": {},
   "outputs": [
    {
     "data": {
      "text/plain": [
       "[64, 97, 98, 96, 70, 72, 78, 79, 50, 51, 82, 88, 89, 56, 91, 93]"
      ]
     },
     "execution_count": 20,
     "metadata": {},
     "output_type": "execute_result"
    }
   ],
   "source": [
    "sorted(numbers)\n",
    "numbers"
   ]
  },
  {
   "cell_type": "code",
   "execution_count": 22,
   "metadata": {},
   "outputs": [
    {
     "data": {
      "text/plain": [
       "[50, 51, 56, 64, 70, 72, 78, 79, 82, 88, 89, 91, 93, 96, 97, 98]"
      ]
     },
     "execution_count": 22,
     "metadata": {},
     "output_type": "execute_result"
    }
   ],
   "source": [
    "numbers.sort()\n",
    "numbers"
   ]
  },
  {
   "attachments": {},
   "cell_type": "markdown",
   "metadata": {},
   "source": [
    "### Entrando en materia\n",
    "\n",
    "\"Divide y venceras\"\n",
    "\n",
    "La búsqueda binaria es un algoritmo eficiente para encontrar un elemento en una lista ordenada de elementos. Funciona al dividir repetidamente a la mitad la porción de la lista que podría contener al elemento, hasta reducir las ubicaciones posibles a solo una.\n",
    "\n",
    "![](https://i.imgur.com/HZxkcXQ.png)"
   ]
  },
  {
   "attachments": {},
   "cell_type": "markdown",
   "metadata": {},
   "source": [
    "Implementaremos un algortitmo de busqueda binaria basado en recursividad. Aqui dos implementaciones. la version _1 no funciona"
   ]
  },
  {
   "cell_type": "code",
   "execution_count": 51,
   "metadata": {},
   "outputs": [],
   "source": [
    "def binary_search_1(data, low, high, target):\n",
    "    if low >= high:\n",
    "        return False\n",
    "    \n",
    "    middle = (low + high)//2\n",
    "\n",
    "    if data[middle] == target:\n",
    "        return middle\n",
    "    elif target > data[middle]:\n",
    "        low = middle + 1\n",
    "    else:\n",
    "        high = middle -1\n",
    "\n",
    "    return binary_search_1(data, low, high, target)\n",
    "    "
   ]
  },
  {
   "cell_type": "code",
   "execution_count": 52,
   "metadata": {},
   "outputs": [],
   "source": [
    "def binary_search(data, low, high, target):\n",
    "    if low > high:\n",
    "        return False\n",
    "    \n",
    "    middle = (low + high)//2\n",
    "\n",
    "    if data[middle] == target:\n",
    "        return middle\n",
    "    elif target < data[middle]:\n",
    "        return binary_search(data=data, low=low, high=middle-1, target=target)\n",
    "    else:\n",
    "        return binary_search(data=data, low=middle+1, high=high, target=target)"
   ]
  },
  {
   "cell_type": "code",
   "execution_count": 53,
   "metadata": {},
   "outputs": [
    {
     "data": {
      "text/plain": [
       "21"
      ]
     },
     "execution_count": 53,
     "metadata": {},
     "output_type": "execute_result"
    }
   ],
   "source": [
    "import random\n",
    "\n",
    "numbers = [random.randint(1,100) for i in range(21)]\n",
    "len(numbers)"
   ]
  },
  {
   "cell_type": "code",
   "execution_count": 67,
   "metadata": {},
   "outputs": [
    {
     "name": "stdout",
     "output_type": "stream",
     "text": [
      "[2, 5, 10, 24, 28, 36, 39, 45, 47, 49, 52, 56, 64, 64, 71, 72, 74, 79, 82, 83, 97]\n"
     ]
    }
   ],
   "source": [
    "numbers.sort()\n",
    "print(numbers)"
   ]
  },
  {
   "cell_type": "code",
   "execution_count": 65,
   "metadata": {},
   "outputs": [
    {
     "name": "stdout",
     "output_type": "stream",
     "text": [
      "9\n"
     ]
    }
   ],
   "source": [
    "target = 49\n",
    "found = binary_search(numbers, 0, len(numbers)-1, target)\n",
    "print(found)"
   ]
  },
  {
   "cell_type": "code",
   "execution_count": 68,
   "metadata": {},
   "outputs": [
    {
     "name": "stdout",
     "output_type": "stream",
     "text": [
      "False\n"
     ]
    }
   ],
   "source": [
    "target = 49\n",
    "found = binary_search_1(numbers, 0, len(numbers)-1, target)\n",
    "print(found)"
   ]
  },
  {
   "attachments": {},
   "cell_type": "markdown",
   "metadata": {},
   "source": [
    "## Manipulacion de archivos en Python 3\n",
    "\n",
    "Siempre que se abra un archivo, importante cerrarlo para que escriba a disco, y evitar se gaste la memoria. \n",
    "\n",
    "![](https://i.imgur.com/luUBq2O.png)"
   ]
  },
  {
   "attachments": {},
   "cell_type": "markdown",
   "metadata": {},
   "source": [
    "Se usar el modulo CSV(comma separated values).\n",
    "\n",
    "    import csv\n",
    "\n",
    "### Listas o Diccionarios\n",
    "\n",
    "Existen dos formas de leer CSV, uno representando las filas como listas:\n",
    "\n",
    "- csv.reader()\n",
    "- csv.writer()\n",
    "\n",
    " o dos las filas como diccionarios:\n",
    "\n",
    " - DictReader()\n",
    " - DictWriter()"
   ]
  },
  {
   "attachments": {},
   "cell_type": "markdown",
   "metadata": {},
   "source": [
    "### Con listas\n",
    "\n",
    "El siguiente Script(**CAP32Files.py**), que se encuentra en */sample_code/32_manipula** ilustra el funcionamiento de csv.writer y reader.\n",
    "\n",
    "En esta primera version, siempre que se pide escribir una nueva entrada, siempre escribe la misma, y la misma. \n",
    "\n",
    "Un Script mucho mas elaborado es **CAP32FilesV1.py**, que permite escribir una nueva entrada, ingresando datos.\n",
    "\n",
    "Algunas cosas interesantes:\n",
    "\n",
    "    *new_employee, = name, department, month\n"
   ]
  },
  {
   "cell_type": "code",
   "execution_count": 70,
   "metadata": {},
   "outputs": [
    {
     "data": {
      "text/plain": [
       "[10, 5, [1, 1]]"
      ]
     },
     "execution_count": 70,
     "metadata": {},
     "output_type": "execute_result"
    }
   ],
   "source": [
    "a = 10\n",
    "b= 5\n",
    "c = [1,1]\n",
    "\n",
    "* new, = a,b,c\n",
    "type(new)\n",
    "new"
   ]
  },
  {
   "attachments": {},
   "cell_type": "markdown",
   "metadata": {},
   "source": [
    "### Con Diccionarios\n",
    "\n",
    "Ver *sample_code* crearemos un nuevo archivo **CAP32FilesV3.py**. Para correr este script y no generar un error de archivo no encontrado, ir a la carpeta y correrlo desde ahi.\n",
    "\n",
    "    FileNotFoundError\n",
    "\n",
    "Mirar el archivo oculto *.people.csv*.\n",
    "\n",
    "#### Interesante\n",
    "\n",
    "Se usaron dict comprehensions para armar un diccionario y escribirlo en el archivo\n",
    "\n",
    "    fields = ['SN', 'Name', 'City']\n",
    "    new_row = {fields: new_person for fields, new_person in zip(fields, new_person)}\n",
    "\n"
   ]
  },
  {
   "attachments": {},
   "cell_type": "markdown",
   "metadata": {},
   "source": [
    "### Modificando el Programa Principal\n",
    "\n",
    "El programa ahora incializara con una lista vacia, cuando inicie el script se cargan los datos desde el disco(load_data_from_csv), y cuando termine el programa, se escriben nuevamente a disco. \n",
    "\n",
    "- se importa csv\n",
    "- CLIENT_SCHEMA = ['name', 'company', 'position']: llaves que usara csv para construir los diccionarios.\n",
    "- Crea un archivo en blanco *.clients.csv*\n",
    "\n",
    "- tambien se importa el modulo *os*"
   ]
  },
  {
   "attachments": {},
   "cell_type": "markdown",
   "metadata": {},
   "source": [
    "OS module in Python provides functions for interacting with the operating system. OS comes under Python’s standard utility modules. This module provides a portable way of using operating system dependent functionality."
   ]
  },
  {
   "attachments": {},
   "cell_type": "markdown",
   "metadata": {},
   "source": [
    "Aqui usamos el metodo remove"
   ]
  },
  {
   "cell_type": "code",
   "execution_count": null,
   "metadata": {},
   "outputs": [],
   "source": [
    "# Import the OS module\n",
    "import os\n",
    "\n",
    "# File path\n",
    "filePath = 'demo.txt'\n",
    "\n",
    "# Remove the file\n",
    "os.remove(filePath)"
   ]
  },
  {
   "attachments": {},
   "cell_type": "markdown",
   "metadata": {},
   "source": [
    "However, if command generates any output, it is sent to the interpreter standard output stream.\n",
    "\n",
    "\n",
    "MAs informacion:\n",
    "\n",
    "https://www.makeuseof.com/python-os-system/"
   ]
  },
  {
   "cell_type": "code",
   "execution_count": null,
   "metadata": {},
   "outputs": [],
   "source": [
    "import os\n",
    "\n",
    "cmd = \"pwd\"\n",
    "\n",
    "returned_value = os.system(cmd)  # returns the exit code in unix\n",
    "print('returned value:', returned_value)"
   ]
  },
  {
   "attachments": {},
   "cell_type": "markdown",
   "metadata": {},
   "source": [
    "#### Como funciona\n",
    "\n",
    "Al principio de la ejecucion del programa se necesita, cargar los datos:"
   ]
  },
  {
   "cell_type": "code",
   "execution_count": null,
   "metadata": {},
   "outputs": [],
   "source": [
    "def _load_data_from_csv():\n",
    "\n",
    "    with open(CLIENT_TABLE, mode='r') as f:\n",
    "        reader = csv.DictReader(f, fieldnames=CLIENT_SCHEMA)            \n",
    "        for idx, row in enumerate(reader):\n",
    "            CLIENTS.append(row)\n",
    "    \n",
    "    os.system('echo DATA LOADED | lolcat')"
   ]
  },
  {
   "attachments": {},
   "cell_type": "markdown",
   "metadata": {},
   "source": [
    "como no se puede modificar una tabla abierta, se borra, y se renombra"
   ]
  },
  {
   "cell_type": "code",
   "execution_count": null,
   "metadata": {},
   "outputs": [],
   "source": [
    "def _save_clients_to_storage():\n",
    "    tmp_table_name = '{}.tmp'.format(CLIENT_TABLE)\n",
    "\n",
    "    with open(tmp_table_name, mode='w') as f:\n",
    "        writer = csv.DictWriter(f, fieldnames=CLIENT_SCHEMA)\n",
    "        writer.writerows(CLIENTS)\n",
    "\n",
    "        os.remove(CLIENT_TABLE)\n",
    "        os.rename(tmp_table_name, CLIENT_TABLE)"
   ]
  }
 ],
 "metadata": {
  "kernelspec": {
   "display_name": "env",
   "language": "python",
   "name": "python3"
  },
  "language_info": {
   "codemirror_mode": {
    "name": "ipython",
    "version": 3
   },
   "file_extension": ".py",
   "mimetype": "text/x-python",
   "name": "python",
   "nbconvert_exporter": "python",
   "pygments_lexer": "ipython3",
   "version": "3.10.6"
  },
  "orig_nbformat": 4
 },
 "nbformat": 4,
 "nbformat_minor": 2
}
