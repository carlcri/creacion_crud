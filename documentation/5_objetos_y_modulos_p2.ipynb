{
 "cells": [
  {
   "attachments": {},
   "cell_type": "markdown",
   "metadata": {},
   "source": [
    "# Objetos y Modulos"
   ]
  },
  {
   "attachments": {},
   "cell_type": "markdown",
   "metadata": {},
   "source": [
    "## Definición a la API pública\n",
    "\n",
    "https://platzi.com/clases/1378-python-practico/14182-definicion-a-la-api-publica/\n",
    "\n",
    "Dejaremos nuestro archivo *main.py* quieto. Solo añadiremos una linea, para indicarle se ejecute python de manera implicita:\n",
    "\n",
    "        #!/usr/bin/env python\n",
    "\n",
    "Hasta ahora hemos trabajado en un solo archivo. Sin embargo en la industria, es comun usar muchos archivos de tal forma que el software sea legible, donde cada uno de los archivos tendra una funcione especifica\n",
    "\n",
    "Crearemos un nuevo directorio: **app-platzi-ventas**. Y crearemos una estructura de archivos:\n",
    "\n",
    "- pv.py: es el punto de entrada\n",
    "\n",
    "![](https://i.imgur.com/2mBSbUL.png)\n",
    "\n",
    "En Python, un subdirectorio, verbigracia *clients* se conoce como **modulos**."
   ]
  },
  {
   "attachments": {},
   "cell_type": "markdown",
   "metadata": {},
   "source": [
    "### ¿Porque Instalar una aplicacion?\n",
    "\n",
    "Generalmente cuando usas cualquier aplicacion de linea de comandos, no tienes que colocar:\n",
    "\n",
    "    python3 git logs ❌\n",
    "\n",
    "Simplemente ejecutamos el comando y ya. Lo que queremos es poder ejecutar nuestra aplicacion simplemente asi:\n",
    "\n",
    "    pv\n",
    "\n",
    "Nuestra aplicacion se llama **pv**(platzi ventas).\n",
    "\n",
    "#### Empezaremos por el archivo pv.py \n",
    "\n",
    "Aqui solo ira el punto de entrada\n",
    "\n",
    "\n",
    "![](https://i.imgur.com/dcMgdRT.png)\n",
    "\n",
    "\n",
    "- Para registrar los comandos, donde *cli* hace referencia a la funcion,(da un poco de legibilidad al codigo, de otra forma escribiriamos *client_commands.clients*) :\n",
    "\n",
    "    cli.add_command(client_commands.all)\n",
    "\n",
    "- Se importa del modulo clients *commands* que se define a continuacion\n",
    "\n",
    "### Definiendo comandos basicos\n",
    "\n",
    "Por ahora, solo esta el comando *search*. \n",
    "\n",
    "![](https://i.imgur.com/P980C2p.png)\n",
    "\n",
    "- all es un alias de clientes -- all apunta a la funcion clients\n",
    "\n",
    "\n",
    "### Implementar setup.py\n",
    "\n",
    "Para invocar directamente la *App* de linea de comandos, sin tener que llamar al interprete de python.\n",
    "\n",
    "- setuptools es una libreria que tiene muchas funcionalidades, pero solo usaremos el modulo *setup* que parece bastante complejo\n",
    "\n",
    "*\"Setuptools is a collection of enhancements to the Python distutils that allow developers to more easily build and distribute Python packages, especially ones that have dependencies on other packages.\"*\n",
    "\n",
    "\n",
    "![](https://i.imgur.com/VFT4iEY.png)"
   ]
  },
  {
   "attachments": {},
   "cell_type": "markdown",
   "metadata": {},
   "source": [
    "#### Instalacion de la App\n",
    "\n",
    "- EN un ambiente virtual\n",
    "- Instalarla, no olvidar el puntico. La opcion **--editable** significa los cambios que se hagan se veran reflejados, asi este instalada. \n",
    "\n",
    "        pip install --editable .\n",
    "\n",
    "![](https://i.imgur.com/R9I7RBV.png)\n",
    "\n",
    "verificar con:\n",
    "\n",
    "    which pv\n",
    "\n",
    "Salida:\n",
    "\n",
    "    https://i.imgur.com/R9I7RBV.png    \n",
    "\n",
    "#### Verificando las funciones de ayuda\n",
    "\n",
    "![](https://i.imgur.com/HbSK7jn.png)\n",
    "\n",
    "        "
   ]
  },
  {
   "attachments": {},
   "cell_type": "markdown",
   "metadata": {},
   "source": [
    "## Pasando el contexto\n",
    "\n",
    "Desafortunadamente la explicacion fue muy deficiente, y la documentacion es algon enredada. Asi que hare mi mejor esfuerzo:\n",
    "\n",
    "En **pv.py**: \n",
    "\n",
    "- Declararemos una constante con el nombre del archivo:\n",
    "\n",
    "        CLIENTS_TABLE = '.clients.csv'\n",
    "\n",
    "- Se hace uso del decorador @click.pass_context, que al usarlo devuelve un objeto contexto(ctx), Que inicializamos como un diccionario vacio.\n",
    "\n",
    "- Asignaremos un campo llave:valor al contexto con el nombre del archivo \n",
    "\n",
    "        ctx.obj['clients_table'] = CLIENTS_TABLE\n",
    "\n",
    "![](https://i.imgur.com/3rPHbUs.png)\n"
   ]
  },
  {
   "attachments": {},
   "cell_type": "markdown",
   "metadata": {},
   "source": [
    "En **commands.py**\n",
    "\n",
    "![](https://i.imgur.com/ELuTorJ.png)"
   ]
  },
  {
   "attachments": {},
   "cell_type": "markdown",
   "metadata": {},
   "source": [
    "- con el decorador @click.pass_context le pasamos el contexto.\n",
    "- asignamos esta variable y miramos que hay dentro de ella:\n",
    "\n",
    "        client_service = ctx.obj['clients_table']\n",
    "\n",
    "- ejecutamos la aplicacion:\n",
    "\n",
    "        pv clients list \n",
    "![](https://i.imgur.com/5BrC7DX.png)"
   ]
  },
  {
   "attachments": {},
   "cell_type": "markdown",
   "metadata": {},
   "source": [
    "No es nada raro. Solo es una referencia al archivo desde donde se van a leer los datos. 😊"
   ]
  },
  {
   "attachments": {},
   "cell_type": "markdown",
   "metadata": {},
   "source": [
    "### Primera implementacion del comando list\n",
    "\n",
    "Todavia no se hara uso de POO. Se hara desde *commands.py*\n",
    "- Agregando... \n",
    "\n",
    "![](https://i.imgur.com/HHViXaG.png)\n",
    "\n",
    "- Solo cambiaremos por ahora el nombre de client_service a client_table\n",
    "- Se agrega la funcion _load_data_from_csv como en main.py\n",
    "- Se hace uso de la libreria *tabulate* para mostrarlo en forma de tabla \n",
    "\n",
    "![](https://i.imgur.com/h6RuPxx.png)\n",
    "\n",
    "Asi ejecutamos:\n",
    "\n",
    "    pv clients list\n",
    "\n",
    "![](https://i.imgur.com/W2cS3y4.png)\n",
    "\n",
    "Como ejercicio adicional, agrega un campo para el salario "
   ]
  },
  {
   "attachments": {},
   "cell_type": "markdown",
   "metadata": {},
   "source": [
    "## Clients y segunsa implementacion del comando list\n",
    "\n",
    "Hasta ahora solo tenemos tres archivos que componen la aplicacion:\n",
    "\n",
    "- setup.py\n",
    "- commands.py\n",
    "- pv.py\n",
    "\n",
    "- Crearemos dos nuevos archivos:\n",
    "\n",
    "        touch clients/models.py \n",
    "    \n",
    "        touch clients/services.py \n",
    "\n",
    "¿Porque esta estructura?\n",
    "\n",
    "Normalmente en un App del mundo real, se tiene que dividir entre la interfax, es decir como interactura el software con el exterior, en el caso de nuestra aplicacion son los *comandos*, si estuvieramos en una aplicacion WEB seria la interfax grafica, si estuvieramos en una API de servidor serian los *endpoints*\n",
    "\n",
    "Luego tendriamos la logica del negocio, esa la manejaremos en servicios. Y por ultimo tenemos las abstracciones, y objetos sobre los cuales estamos interactuando, en este caso serian los clientes y los manejamos en modelos.\n",
    "\n",
    "#### Declarando una clase\n",
    "\n",
    "Dentro de **models.py** declararamos una clase, que por ahora no la vamos a usar, ni tampoco la funcion *to_dict*. Solo usaremos el metodo estatico por ahora. \n",
    "\n",
    "![](https://i.imgur.com/DhtOpxZ.png)\n",
    "\n",
    "Se puede declarar un metodo estatico con el decorador **@staticmethod**. Un metodo estatico es un metodo que se puede ejecutar sin necesidad de una instancia de clase. Aqui solo guardaremos el schema:\n",
    "\n",
    "Antes:\n",
    "\n",
    "        CLIENT_SCHEMA = ['name', 'company', 'position', 'salary']\n",
    "\n",
    "\n",
    "Despues: \n",
    "\n",
    "    @staticmethod\n",
    "    def schema():\n",
    "        return ['name', 'company', 'position', 'salary']\n",
    "\n",
    "Observa los metodos estaticos no requieren *el keyword self*\n"
   ]
  },
  {
   "attachments": {},
   "cell_type": "markdown",
   "metadata": {},
   "source": [
    "#### Modificando el Servicio\n",
    "\n",
    "Hasta ahora, dentro del mismo archivo *commands.py* manejamos los *endpoints* por decirlo de alguna manera de nuestra Aplicacion, y tambien la busqueda, o lo que sirve la aplicacion.\n",
    "\n",
    "Independizaremos los servicios de los endpoints.\n",
    "\n",
    "Iremos a **services.py** donde guardaremos nuestra logica de negocio: que significa ser update, o que significa delete, o list, o create. Y lo declararemos como una clase. \n",
    "\n",
    "Por ahora solo implementaremso el metodo para listar todos los elementos.\n",
    "\n",
    "![](https://i.imgur.com/qggmqEM.png)\n",
    "\n",
    "- **reader** es un iterable, pero lo podemos convertir en una lista\n",
    "- No usaremos mas la funcion *_load_data_from_csv*\n",
    "- **render-list** es un metodo estatico para renderizar la tabla de forma bonita\n",
    "\n"
   ]
  },
  {
   "attachments": {},
   "cell_type": "markdown",
   "metadata": {},
   "source": [
    "\n",
    "#### Modificando commands.py\n",
    "\n",
    "    from clients.services import ClientService\n",
    "\n",
    "Y la funcion\n",
    "\n",
    "    @clients.command()\n",
    "    @click.pass_context\n",
    "    def list(ctx):\n",
    "        '''List all the clients'''\n",
    "        client_table = ctx.obj['clients_table']\n",
    "        client_service = ClientService(client_table)\n",
    "        clients_list = client_service.get_clients_list()\n",
    "        ClientService.render_list(clients_list)\n",
    "\n",
    "Guardamos nuestro trabajo en git. Como \"segunda implementacion funcion list\""
   ]
  },
  {
   "attachments": {},
   "cell_type": "markdown",
   "metadata": {},
   "source": [
    "## Servicios: Logica de Negocio de la Aplicacion\n",
    "\n",
    "Ya hemos implementado el comando *list*. ¿Que tal si seguimos implementando las demas funciones?\n",
    "\n",
    "### Implementando la funcion de busqueda\n",
    "\n",
    "![](https://i.imgur.com/OWdC1Oi.png)"
   ]
  },
  {
   "attachments": {},
   "cell_type": "markdown",
   "metadata": {},
   "source": [
    "- Se crear el comando *search* que tiene un argumento: username, y una opcion(byname) si se va a realizar la busqueda por nombre. Notar que es un booleano y que el valor por defecto es falso. Bueno deberia ser al reves, pero funciona.\n",
    "\n",
    "- se implementa el funcion *search_client_by_name*\n",
    "\n",
    "![](https://i.imgur.com/G4FsCFv.png)"
   ]
  },
  {
   "attachments": {},
   "cell_type": "markdown",
   "metadata": {},
   "source": [
    "Como ves retorna el diccionario correspondiente a donde esta almacenada la busqueda, de otra forma retorna None.\n",
    "\n",
    "Ahora ejecutemos el comando:\n",
    "\n",
    "    pv clients search joe\n",
    "\n",
    "![](https://i.imgur.com/9EZAz0H.png)"
   ]
  },
  {
   "attachments": {},
   "cell_type": "markdown",
   "metadata": {},
   "source": [
    "Si queremos ahora ir a la parte que no esta implementada, para cambiar el valor de la opcion *byname* a verdadero, simplemente\n",
    "\n",
    "    pv clients search joe --byname\n",
    "\n",
    "Y aparecera un mensaje que *no esta implementado*"
   ]
  },
  {
   "cell_type": "markdown",
   "metadata": {},
   "source": [
    "\n",
    "#### "
   ]
  }
 ],
 "metadata": {
  "kernelspec": {
   "display_name": "env",
   "language": "python",
   "name": "python3"
  },
  "language_info": {
   "name": "python",
   "version": "3.10.6"
  },
  "orig_nbformat": 4
 },
 "nbformat": 4,
 "nbformat_minor": 2
}
