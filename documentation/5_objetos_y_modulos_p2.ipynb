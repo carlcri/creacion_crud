{
 "cells": [
  {
   "attachments": {},
   "cell_type": "markdown",
   "metadata": {},
   "source": [
    "# Objetos y Modulos"
   ]
  },
  {
   "attachments": {},
   "cell_type": "markdown",
   "metadata": {},
   "source": [
    "## Definición a la API pública\n",
    "\n",
    "https://platzi.com/clases/1378-python-practico/14182-definicion-a-la-api-publica/\n",
    "\n",
    "Dejaremos nuestro archivo *main.py* quieto. Solo añadiremos una linea, para indicarle se ejecute python de manera implicita:\n",
    "\n",
    "        #!/usr/bin/env python\n",
    "\n",
    "Hasta ahora hemos trabajado en un solo archivo. Sin embargo en la industria, es comun usar muchos archivos de tal forma que el software sea legible, donde cada uno de los archivos tendra una funcione especifica\n",
    "\n",
    "Crearemos un nuevo directorio: **app-platzi-ventas**. Y crearemos una estructura de archivos:\n",
    "\n",
    "- pv.py: es el punto de entrada\n",
    "\n",
    "![](https://i.imgur.com/2mBSbUL.png)\n",
    "\n",
    "En Python, un subdirectorio, verbigracia *clients* se conoce como **modulos**."
   ]
  },
  {
   "attachments": {},
   "cell_type": "markdown",
   "metadata": {},
   "source": [
    "### ¿Porque Instalar una aplicacion?\n",
    "\n",
    "Generalmente cuando usas cualquier aplicacion de linea de comandos, no tienes que colocar:\n",
    "\n",
    "    python3 git logs ❌\n",
    "\n",
    "Simplemente ejecutamos el comando y ya. Lo que queremos es poder ejecutar nuestra aplicacion simplemente asi:\n",
    "\n",
    "    pv\n",
    "\n",
    "Nuestra aplicacion se llama **pv**(platzi ventas).\n",
    "\n",
    "#### Empezaremos por el archivo pv.py \n",
    "\n",
    "Aqui solo ira el punto de entrada\n",
    "\n",
    "\n",
    "![](https://i.imgur.com/dcMgdRT.png)\n",
    "\n",
    "\n",
    "- Para registrar los comandos, donde *cli* hace referencia a la funcion,(da un poco de legibilidad al codigo, de otra forma escribiriamos *client_commands.clients*) :\n",
    "\n",
    "    cli.add_command(client_commands.all)\n",
    "\n",
    "- Se importa del modulo clients *commands* que se define a continuacion\n",
    "\n",
    "### Definiendo comandos basicos\n",
    "\n",
    "Por ahora, solo esta el comando *search*. \n",
    "\n",
    "![](https://i.imgur.com/P980C2p.png)\n",
    "\n",
    "- all es un alias de clientes -- all apunta a la funcion clients\n",
    "\n",
    "\n",
    "### Implementar setup.py\n",
    "\n",
    "Para invocar directamente la *App* de linea de comandos, sin tener que llamar al interprete de python.\n",
    "\n",
    "- setuptools es una libreria que tiene muchas funcionalidades, pero solo usaremos el modulo *setup* que parece bastante complejo\n",
    "\n",
    "*\"Setuptools is a collection of enhancements to the Python distutils that allow developers to more easily build and distribute Python packages, especially ones that have dependencies on other packages.\"*\n",
    "\n",
    "\n",
    "![](https://i.imgur.com/VFT4iEY.png)"
   ]
  },
  {
   "attachments": {},
   "cell_type": "markdown",
   "metadata": {},
   "source": [
    "#### Instalacion de la App\n",
    "\n",
    "- EN un ambiente virtual\n",
    "- Instalarla, no olvidar el puntico. La opcion **--editable** significa los cambios que se hagan se veran reflejados, asi este instalada. \n",
    "\n",
    "        pip install --editable .\n",
    "\n",
    "![](https://i.imgur.com/R9I7RBV.png)\n",
    "\n",
    "verificar con:\n",
    "\n",
    "    which pv\n",
    "\n",
    "Salida:\n",
    "\n",
    "    https://i.imgur.com/R9I7RBV.png    \n",
    "\n",
    "#### Verificando las funciones de ayuda\n",
    "\n",
    "![](https://i.imgur.com/HbSK7jn.png)\n",
    "\n",
    "        "
   ]
  },
  {
   "attachments": {},
   "cell_type": "markdown",
   "metadata": {},
   "source": [
    "## Pasando el contexto\n",
    "\n",
    "Desafortunadamente la explicacion fue muy deficiente, y la documentacion es algon enredada. Asi que hare mi mejor esfuerzo:\n",
    "\n",
    "En **pv.py**: \n",
    "\n",
    "- Declararemos una constante con el nombre del archivo:\n",
    "\n",
    "        CLIENTS_TABLE = '.clients.csv'\n",
    "\n",
    "- Se hace uso del decorador @click.pass_context, que al usarlo devuelve un objeto contexto(ctx), Que inicializamos como un diccionario vacio.\n",
    "\n",
    "- Asignaremos un campo llave:valor al contexto con el nombre del archivo \n",
    "\n",
    "        ctx.obj['clients_table'] = CLIENTS_TABLE\n",
    "\n",
    "![](https://i.imgur.com/3rPHbUs.png)\n"
   ]
  },
  {
   "attachments": {},
   "cell_type": "markdown",
   "metadata": {},
   "source": [
    "En **commands.py**\n",
    "\n",
    "![](https://i.imgur.com/ELuTorJ.png)"
   ]
  },
  {
   "attachments": {},
   "cell_type": "markdown",
   "metadata": {},
   "source": [
    "- con el decorador @click.pass_context le pasamos el contexto.\n",
    "- asignamos esta variable y miramos que hay dentro de ella:\n",
    "\n",
    "        client_service = ctx.obj['clients_table']\n",
    "\n",
    "- ejecutamos la aplicacion:\n",
    "\n",
    "        pv clients list \n",
    "![](https://i.imgur.com/5BrC7DX.png)"
   ]
  },
  {
   "attachments": {},
   "cell_type": "markdown",
   "metadata": {},
   "source": [
    "No es nada raro. Solo es una referencia al archivo desde donde se van a leer los datos. 😊"
   ]
  },
  {
   "attachments": {},
   "cell_type": "markdown",
   "metadata": {},
   "source": [
    "## Primera implementacion del comando list\n",
    "\n",
    "Todavia no se hara uso de POO. Se hara desde *commands.py*\n",
    "- Agregando... \n",
    "\n",
    "![](https://i.imgur.com/HHViXaG.png)\n",
    "\n",
    "- Solo cambiaremos por ahora el nombre de client_service a client_table\n",
    "- Se agrega la funcion _load_data_from_csv como en main.py\n",
    "- Se hace uso de la libreria *tabulate* para mostrarlo en forma de tabla \n",
    "\n",
    "![](https://i.imgur.com/h6RuPxx.png)\n",
    "\n",
    "Asi ejecutamos:\n",
    "\n",
    "    pv clients list\n",
    "\n",
    "![](https://i.imgur.com/W2cS3y4.png)\n"
   ]
  }
 ],
 "metadata": {
  "kernelspec": {
   "display_name": "env",
   "language": "python",
   "name": "python3"
  },
  "language_info": {
   "name": "python",
   "version": "3.10.6"
  },
  "orig_nbformat": 4
 },
 "nbformat": 4,
 "nbformat_minor": 2
}
