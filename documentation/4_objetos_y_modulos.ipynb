{
 "cells": [
  {
   "attachments": {},
   "cell_type": "markdown",
   "metadata": {},
   "source": [
    "# Uso de objetos y módulos"
   ]
  },
  {
   "attachments": {},
   "cell_type": "markdown",
   "metadata": {},
   "source": [
    "## Decoradores\n",
    "\n",
    "### Procedural Programing: Programacion por procesos\n",
    "\n",
    "Esa forma de programar que hemos hecho hasta este momento se llama *Procedural Programing*:\n",
    "\n",
    "\"Procedural programming is a programming **paradigm** built around the idea that programs are sequences of instructions to be executed. They focus heavily on splitting up programs into named sets of instructions called procedures, analogous to functions.\"\n",
    "\n",
    "### QUe son\n",
    "\n",
    "Los decoradores permiten extender y modificar el funcionamiento de las funciones. Los decoradores envuelven a otra función y permiten ejecutar código antes y después de que es llamada.\n",
    "\n",
    "Por ejemplo, si se necesita realizar trabajo y antes de una funcion, dado el caso que un usuario pueda o no acceder a cierta funcion, si dicho usuario esta correctamente autenticado.\n",
    "\n",
    "El decorador permite manipular no solo una, sino varias funciones, de tal manera que se reutilize el codigo.\n",
    "\n",
    "### Funciones como ciudadanos de primera clase en Python\n",
    "\n",
    "First-class objects. \n",
    "\n",
    "Significa las funciones puedes recibir funciones como parametro, y pueden regresar o retornar funciones. \n",
    "\n",
    "![](https://i.imgur.com/GrKB01D.png)\n",
    "\n"
   ]
  },
  {
   "cell_type": "code",
   "execution_count": null,
   "metadata": {},
   "outputs": [],
   "source": [
    "def upper(func):\n",
    "    def wrapper():\n",
    "        pass\n",
    "    return wrapper"
   ]
  },
  {
   "attachments": {},
   "cell_type": "markdown",
   "metadata": {},
   "source": [
    "Se puede ejecutar codigo antes de llamar a la funcion, o despues de llamar a la funcion. "
   ]
  },
  {
   "attachments": {},
   "cell_type": "markdown",
   "metadata": {},
   "source": [
    "## Decoradores en Python\n",
    "\n",
    "### Ejemplo 1. \n",
    "\n",
    "Crear una funcion decoradora que simplemente coloque de formato a mayusculas. Mi funcio inicial:"
   ]
  },
  {
   "cell_type": "code",
   "execution_count": 14,
   "metadata": {},
   "outputs": [
    {
     "data": {
      "text/plain": [
       "'your name is thanos'"
      ]
     },
     "execution_count": 14,
     "metadata": {},
     "output_type": "execute_result"
    }
   ],
   "source": [
    "def print_my_name(name):\n",
    "\tname = 'your name is ' + name\n",
    "\treturn name\n",
    "\n",
    "print_my_name('thanos')"
   ]
  },
  {
   "attachments": {},
   "cell_type": "markdown",
   "metadata": {},
   "source": [
    "Ahora crear una funncion decoradora, donde capitalize el Nombre"
   ]
  },
  {
   "cell_type": "code",
   "execution_count": 15,
   "metadata": {},
   "outputs": [
    {
     "name": "stdout",
     "output_type": "stream",
     "text": [
      "Esta funcion decoradora solo el nombre en mayusculas\n",
      "your name is THANOS\n"
     ]
    }
   ],
   "source": [
    "def upper1(func):\n",
    "\tdef wrapper(name):\n",
    "\t\tprint('Esta funcion decoradora solo el nombre en mayusculas')\n",
    "\t\tname = name.upper()\n",
    "\t\treturn func(name)\n",
    "\treturn wrapper\n",
    "\n",
    "@upper1\n",
    "def print_my_name(name):\n",
    "\tname = 'your name is ' + name\n",
    "\treturn name\n",
    "\n",
    "this_is_a_name = 'thanos'\n",
    "print(print_my_name(this_is_a_name))"
   ]
  },
  {
   "attachments": {},
   "cell_type": "markdown",
   "metadata": {},
   "source": [
    "### Ejemplo 2\n",
    "\n",
    "Modificar o crear una nueva funcion decoradora que permita colocar todo el texto en mayusculas"
   ]
  },
  {
   "cell_type": "code",
   "execution_count": 16,
   "metadata": {},
   "outputs": [
    {
     "name": "stdout",
     "output_type": "stream",
     "text": [
      "Esta funcion decoradora todo en mayusculas\n",
      "YOUR NAME IS THANOS\n"
     ]
    }
   ],
   "source": [
    "def upper2(func):\n",
    "\tdef wrapper(name):\n",
    "\t\tprint('Esta funcion decoradora todo en mayusculas')\n",
    "\t\treturn func(name).upper()\n",
    "\treturn wrapper\n",
    "\n",
    "@upper2\n",
    "def print_my_name(name):\n",
    "\tname = 'your name is ' + name\n",
    "\treturn name\n",
    "\n",
    "print(print_my_name(this_is_a_name))"
   ]
  },
  {
   "cell_type": "code",
   "execution_count": 19,
   "metadata": {},
   "outputs": [
    {
     "name": "stdout",
     "output_type": "stream",
     "text": [
      "Esta funcion decoradora todo en mayusculas\n",
      "YOUR NAME IS THANOS\n"
     ]
    }
   ],
   "source": [
    "def upper2(func):\n",
    "\tdef wrapper(name):\n",
    "\t\tprint('Esta funcion decoradora todo en mayusculas')\n",
    "\t\treturn func(name).upper()\n",
    "\treturn wrapper\n",
    "\n",
    "@upper2\n",
    "def print_my_name(name):\n",
    "\tname = 'your name is ' + name\n",
    "\treturn name\n",
    "\n",
    "print(print_my_name(this_is_a_name))"
   ]
  },
  {
   "attachments": {},
   "cell_type": "markdown",
   "metadata": {},
   "source": [
    "SI observas bien, en ningun momento modifique mi funcion principal *print_my_name*, solo cree decoradores y los aplique sobre la misma de acuerdo al requerimiento."
   ]
  },
  {
   "attachments": {},
   "cell_type": "markdown",
   "metadata": {},
   "source": [
    "### Ejemplo 3 - Decorador Property\n",
    "\n",
    "![](https://i.imgur.com/bxETMYL.png)\n",
    "\n",
    "Creamos una nueva clase para modelar una casa:"
   ]
  },
  {
   "cell_type": "code",
   "execution_count": 20,
   "metadata": {},
   "outputs": [],
   "source": [
    "class Casa:\n",
    "\tdef __init__(self, precio):\n",
    "\t\tself.precio = precio"
   ]
  },
  {
   "attachments": {},
   "cell_type": "markdown",
   "metadata": {},
   "source": [
    "El atributo *precio* es publico porque no tiene el guion bajo.\n",
    "\n",
    "Es muy probable que tú y otros desarrolladores en tu equipo usen y modifiquen el atributo directamente en otras partes del programa usando notación de punto:"
   ]
  },
  {
   "cell_type": "code",
   "execution_count": 23,
   "metadata": {},
   "outputs": [
    {
     "data": {
      "text/plain": [
       "100"
      ]
     },
     "execution_count": 23,
     "metadata": {},
     "output_type": "execute_result"
    }
   ],
   "source": [
    "casa = Casa(100)\n",
    "\n",
    "# Acceder al precio\n",
    "casa.precio"
   ]
  },
  {
   "cell_type": "code",
   "execution_count": 24,
   "metadata": {},
   "outputs": [
    {
     "data": {
      "text/plain": [
       "5000"
      ]
     },
     "execution_count": 24,
     "metadata": {},
     "output_type": "execute_result"
    }
   ],
   "source": [
    "# Modificar el precio\n",
    "casa.precio = 5000\n",
    "casa.precio"
   ]
  },
  {
   "attachments": {},
   "cell_type": "markdown",
   "metadata": {},
   "source": [
    "Hasta ahora todo está funcionando correctamente, ¿cierto?\n",
    "\n",
    "Pero digamos que te piden que hagas ciertos cambios en el código, específicamente debes hacer que este atributo no sea público y que se valide el valor nuevo antes de asignarlo, que sea un valor positivo.\n",
    "\n",
    "\n",
    "completar::\n",
    "\n",
    "https://www.freecodecamp.org/espanol/news/python-decorador-property/"
   ]
  },
  {
   "attachments": {},
   "cell_type": "markdown",
   "metadata": {},
   "source": [
    "### Ejemplo 4\n",
    "\n",
    "Crear una funcion cualquiera,"
   ]
  },
  {
   "cell_type": "code",
   "execution_count": 38,
   "metadata": {},
   "outputs": [],
   "source": [
    "def say_bob():\n",
    "    print('Hello I am working very hard')"
   ]
  },
  {
   "attachments": {},
   "cell_type": "markdown",
   "metadata": {},
   "source": [
    "Sin mofificar la funcion anterior, para que esta ultima solo se ejecute durante el dia."
   ]
  },
  {
   "cell_type": "code",
   "execution_count": 39,
   "metadata": {},
   "outputs": [
    {
     "name": "stdout",
     "output_type": "stream",
     "text": [
      "Hello I am working very hard\n"
     ]
    }
   ],
   "source": [
    "from datetime import datetime\n",
    "\n",
    "def not_during_the_night(func):\n",
    "    def wrapper():\n",
    "        if 7 <= datetime.now().hour < 17:\n",
    "            func()\n",
    "        else:\n",
    "            pass  # Hush, the neighbors are asleep\n",
    "    return wrapper\n",
    "\n",
    "\n",
    "@not_during_the_night\n",
    "def say_bob():\n",
    "    print('Hello I am working very hard')\n",
    "\n",
    "\n",
    "say_bob()"
   ]
  },
  {
   "attachments": {},
   "cell_type": "markdown",
   "metadata": {},
   "source": [
    "https://realpython.com/primer-on-python-decorators/"
   ]
  },
  {
   "attachments": {},
   "cell_type": "markdown",
   "metadata": {},
   "source": [
    "### Ejemplo 5\n",
    "\n",
    "🔴 Ver *cap31decora.py* y *requires_password.py*\n",
    "\n",
    "Se necesita una funcion que solo debe accederese si la contraseña es correcta-"
   ]
  },
  {
   "cell_type": "code",
   "execution_count": 42,
   "metadata": {},
   "outputs": [
    {
     "name": "stdout",
     "output_type": "stream",
     "text": [
      "password is correct\n",
      "accesing private data\n"
     ]
    }
   ],
   "source": [
    "def needs_password():\n",
    "\tprint('password is correct')\n",
    "\tprint('accesing private data')\n",
    "\n",
    "needs_password()"
   ]
  },
  {
   "attachments": {},
   "cell_type": "markdown",
   "metadata": {},
   "source": [
    "como ves calquiera puede acceder la informacion sensible. COn la funcion decoradora, modificamos el comportamiento de la funcion sin tocarla por dentro.\n",
    "\n",
    "Ademas nota importamos el *SECRET KEY* de un archivo oculto *.env*"
   ]
  },
  {
   "cell_type": "code",
   "execution_count": null,
   "metadata": {},
   "outputs": [],
   "source": [
    "import os\n",
    "\n",
    "from dotenv import load_dotenv\n",
    "\n",
    "# Load config from .env file\n",
    "load_dotenv()\n",
    "PASSWORD = os.environ[\"SECRET_KEY\"]\n",
    "\n",
    "\n",
    "def password_required(func):\n",
    "\tdef wrapper():\n",
    "\t\tuser_password = input('Digita la constraseña: ')\n",
    "\t\tif user_password == PASSWORD:\n",
    "\t\t\treturn func()\n",
    "\t\telse:\n",
    "\t\t\tos.system('echo contraseña incorrecta | lolcat')\t\t\t\n",
    "\treturn wrapper\n",
    "\n",
    "\n",
    "@password_required\n",
    "def needs_password():\n",
    "\tos.system('echo accesing private data | cowsay | lolcat')\n"
   ]
  },
  {
   "attachments": {},
   "cell_type": "markdown",
   "metadata": {},
   "source": [
    "### Ejemplo 6: args y kwargs\n",
    "\n",
    "Cuando la funcion recibe parametros en si misma. Para empezar una funcion que escribe el nombre con el apellido"
   ]
  },
  {
   "cell_type": "code",
   "execution_count": 48,
   "metadata": {},
   "outputs": [
    {
     "name": "stdout",
     "output_type": "stream",
     "text": [
      "hello vladimir putin\n"
     ]
    }
   ],
   "source": [
    "def say_my_name(name, last_name):\n",
    "    print('hello {name} {last_name}'.format(name = name, last_name=last_name))\n",
    "\n",
    "say_my_name('vladimir','putin')"
   ]
  },
  {
   "attachments": {},
   "cell_type": "markdown",
   "metadata": {},
   "source": [
    "Escribiremos un decorador es volver en mayusculas el nombre. \n",
    "\n",
    "Haremos uso de los parametros:\n",
    "\n",
    "- args: \n",
    "- kwargs\n",
    "\n",
    "Estos ultimos son simplemnte los argumentos que tienen keywords, es decir cuando tienen nombre, por ejemplo cuando les asignamos un valor default:"
   ]
  },
  {
   "cell_type": "code",
   "execution_count": null,
   "metadata": {},
   "outputs": [],
   "source": [
    "def say_my_name(name = 'Gustavo', last_name = 'Petro'):\n",
    "    print('hello {name} {last_name}'.format(name = name, last_name=last_name))"
   ]
  },
  {
   "attachments": {},
   "cell_type": "markdown",
   "metadata": {},
   "source": [
    "O los argumentos posicionales. La estrella y doble estrella es solamente una expansion. Lo que se le esta diciendo a Python es \"estamos recibiendo una lista, yo no quiero esa lista, quiero los parametros tal cual son\":\n",
    "\n",
    "    def wrapper(*args, **kwargs)\n",
    "\n",
    "Aqui no estamos evitando el problema de determinar de antemano cuales son los parametros, simplemente los estamos recibiendo y se los estamos pasando\n",
    "\n",
    "    result = func(*args, **kwargs)\n",
    "\n",
    "Probemos el codigo"
   ]
  },
  {
   "cell_type": "code",
   "execution_count": 53,
   "metadata": {},
   "outputs": [],
   "source": [
    "def upper(func):\n",
    "    def wrapper(*args, **kwargs):\n",
    "        result = func(*args, **kwargs)\n",
    "\n",
    "        return result.upper()\n",
    "    \n",
    "    return wrapper\n",
    "\n",
    "@upper\n",
    "def say_my_name(name, last_name):\n",
    "    print('hello {name} {last_name}'.format(name = name, last_name=last_name))"
   ]
  },
  {
   "attachments": {},
   "cell_type": "markdown",
   "metadata": {},
   "source": [
    "![](https://i.imgur.com/i8UJgSG.png)"
   ]
  },
  {
   "attachments": {},
   "cell_type": "markdown",
   "metadata": {},
   "source": [
    "Y lo que pasa, es que *say_my_name* no esta retornando nada, esta retornando None implicitamente. \n",
    "\n",
    "Por lo tanto a ese result que le estamos tratando de aplicar .upper(), no lo puede ejecutar porque es None. Modifiquemos la funcion *say_my_name*\n",
    "\n",
    "    @upper\n",
    "    def say_my_name(name, last_name):\n",
    "        return 'hello {name} es {last_name}'.format(name = name, last_name=last_name)\n",
    "\n",
    "Sin embargo el output final es: \n",
    "\n",
    "    HELLO GUSTAVO PETRO\n",
    "\n",
    "😬😬"
   ]
  },
  {
   "attachments": {},
   "cell_type": "markdown",
   "metadata": {},
   "source": [
    "## Ejemplo 7, \n",
    "\n",
    "Modificar la funcion *upper* de tal forma que solo ponga en Mayusculas los nombres. No mas.\n"
   ]
  },
  {
   "cell_type": "code",
   "execution_count": null,
   "metadata": {},
   "outputs": [],
   "source": [
    "def upper(func):\n",
    "    def wrapper(*args, **kwargs):\n",
    "        \n",
    "        lista = []\n",
    "\n",
    "        for item in args:\n",
    "            lista.append(item.upper())\n",
    "\n",
    "        args = tuple(lista)  \n",
    "        result = func(*args, **kwargs)\n",
    "\n",
    "        return result\n",
    "    \n",
    "    return wrapper"
   ]
  },
  {
   "attachments": {},
   "cell_type": "markdown",
   "metadata": {},
   "source": [
    "Lo que hay que entender es que *args* es una tupla que contiene el nombre y apellido, asi que hay que iterar sobre la misma"
   ]
  },
  {
   "attachments": {},
   "cell_type": "markdown",
   "metadata": {},
   "source": [
    "## Introducion a Click\n",
    "\n",
    "Pequeño framework para crear aplicaciones de lines de comandos. Usa decoradores para implementar su funcionalidad\n",
    "\n",
    "- Nos otorga una interfaz que podemos personalizar\n",
    "- También autogenera ayuda para el usuario\n",
    "\n",
    "Los decoradores más importantes que nos otorga son:\n",
    "- @click.group○\n",
    "- @click.command\n",
    "- @click.argument\n",
    "- click.option\n",
    "\n",
    "### Argumento vs Opcion\n",
    "\n",
    "- Los argumentos son parametros necesarios, \n",
    "- Las opciones son parametros opcionales(tienen doble dash -- o dash sencillo-).\n",
    "\n",
    "### También realiza las conversiones de tipo por nosotros\n",
    "\n",
    "Si te acuerdas con el metodo input() siempre se recibe un string del usuario, y posteriormente realizabamos la conversion nosotros mismos.\n",
    "\n",
    "Click nos permite definir que tipo de argumento esperamos para cada opcion y/o argumento."
   ]
  }
 ],
 "metadata": {
  "kernelspec": {
   "display_name": "env",
   "language": "python",
   "name": "python3"
  },
  "language_info": {
   "codemirror_mode": {
    "name": "ipython",
    "version": 3
   },
   "file_extension": ".py",
   "mimetype": "text/x-python",
   "name": "python",
   "nbconvert_exporter": "python",
   "pygments_lexer": "ipython3",
   "version": "3.10.6"
  },
  "orig_nbformat": 4
 },
 "nbformat": 4,
 "nbformat_minor": 2
}
