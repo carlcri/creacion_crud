{
 "cells": [
  {
   "attachments": {},
   "cell_type": "markdown",
   "metadata": {},
   "source": [
    "# Click desde Cero\n",
    "\n",
    "https://www.youtube.com/watch?v=7yJbMfQMvRQ"
   ]
  },
  {
   "attachments": {},
   "cell_type": "markdown",
   "metadata": {},
   "source": [
    "## Using sys.argv\n",
    "\n",
    "Command line arguments are those values that are passed during calling of program along with the calling statement. Thus, the first element of the array sys.argv() is **the name of the program itself**. sys.argv() is an array for command line arguments in Python.\n",
    "\n",
    "See: **0_sys_argv.py**"
   ]
  },
  {
   "cell_type": "code",
   "execution_count": null,
   "metadata": {},
   "outputs": [],
   "source": [
    "import sys\n",
    "\n",
    "if __name__ == '__main__':\n",
    "    print(\"This is the name of the program {}\".format(sys.argv[0]))"
   ]
  },
  {
   "attachments": {},
   "cell_type": "markdown",
   "metadata": {},
   "source": [
    "Y su salida: \n",
    "\n",
    "    This is the name of the program 0_sys_argv.py"
   ]
  },
  {
   "attachments": {},
   "cell_type": "markdown",
   "metadata": {},
   "source": [
    "### ¿Que pasaria si pasaramos mas argumentos e igualemente los quisieramos ver?\n",
    "\n",
    "See: **1_sys_argv.py**"
   ]
  },
  {
   "cell_type": "code",
   "execution_count": null,
   "metadata": {},
   "outputs": [],
   "source": [
    "import sys, os\n",
    "\n",
    "if __name__ == '__main__':\n",
    "\n",
    "    for indx, item in enumerate(sys.argv):\n",
    "        if indx == 0:\n",
    "            print(\"name of the program {}\".format(sys.argv[0]))\n",
    "        else:\n",
    "            print(\"argument: {}\".format(item))"
   ]
  },
  {
   "attachments": {},
   "cell_type": "markdown",
   "metadata": {},
   "source": [
    "Supongamos ejectumos el script de la siguiente forma:\n",
    "\n",
    "    python3 1_sys_argv.py hola mundo \n",
    "\n",
    "La salida seria esta:\n",
    "\n",
    "    name of the program 1_sys_argv.py\n",
    "    argument: hola\n",
    "    argument: mundo\n",
    "\n",
    "Para un total de 2 argumentos ✅"
   ]
  },
  {
   "attachments": {},
   "cell_type": "markdown",
   "metadata": {},
   "source": [
    "Sin embargo, a medida que crece la complejidad del programa, *argv* no es la mejor opcion."
   ]
  },
  {
   "attachments": {},
   "cell_type": "markdown",
   "metadata": {},
   "source": [
    "## Introducion a Click\n",
    "\n",
    "### decorador click.group\n",
    "\n",
    "Script: **2_click_command.py**\n",
    "\n",
    "    @click.group\n",
    "    def main():\n",
    "        print('Hola Mundo')\n",
    "\n",
    "    if __name__ == '__main__':\n",
    "        main()\n",
    "\n",
    "Y lo ejecutamos:"
   ]
  },
  {
   "attachments": {},
   "cell_type": "markdown",
   "metadata": {},
   "source": [
    "![](https://i.imgur.com/uz1uE6e.png)\n",
    "\n",
    "En realidad no esta mostrando ningun error, solo me da informacion necesito ejecutar el programa con el alguna opcion y/o argumento. Esta mostrando la documentacion del CLI\n",
    "\n",
    "Si ejecutmos con la opcion --help\n",
    "\n",
    "    python3 2_click_command.py --help \n",
    "\n",
    "Encontraremos exactamente la misma informacion.\n",
    "\n"
   ]
  },
  {
   "attachments": {},
   "cell_type": "markdown",
   "metadata": {},
   "source": [
    "A continuacion, nuestro primer comando: \n",
    "\n",
    "    @click.group\n",
    "    def main():\n",
    "        pass\n",
    "\n",
    "    @main.command\n",
    "    def greeting():\n",
    "        print('Hola Mundo')\n",
    "\n",
    "\n",
    "    if __name__ == '__main__':\n",
    "        main()\n",
    "\n",
    "Si ejecutamos con la opcion --help:\n",
    "\n",
    "![](https://i.imgur.com/0ne3z3C.png)\n",
    "\n",
    "Y para ejecutar el comando, pues le colocamos el comando:\n",
    "\n",
    "    python3 3_click_command.py greeting"
   ]
  },
  {
   "attachments": {},
   "cell_type": "markdown",
   "metadata": {},
   "source": [
    "En **4_click_command.py** agregamos un segundo comando, decorandolo con *command*\n",
    "\n",
    "    @main.command\n",
    "    def goodbye():\n",
    "        print('Good bye, see you tomorrow')\n",
    "\n",
    "Y para ejecutarlo, lo mismo:\n",
    "\n",
    "    python3 4_click_command.py goodbye \n"
   ]
  },
  {
   "attachments": {},
   "cell_type": "markdown",
   "metadata": {},
   "source": [
    "### Ejecutando Python de manera implicita\n",
    "\n",
    "Para todos los sistemas opertivos basado en UNIX, se agrega la siguiente en la primera linea de codigo:\n",
    "\n",
    "    #!/usr/bin/env python\n",
    "\n",
    "Esa ubicacion es donde se encuentra el interprete de python. De esta forma se le indica al SO que ejecute el script usando el interprete de python\n",
    "\n",
    "Tambien modificar los permisos:\n",
    "\n",
    "    sudo chmod +x 4_click_command.py\n",
    "\n",
    "Y para ejecuta el script:\n",
    "\n",
    "    ./4_click_command.py ✅\n",
    "\n"
   ]
  },
  {
   "attachments": {},
   "cell_type": "markdown",
   "metadata": {},
   "source": [
    "### 28:46"
   ]
  }
 ],
 "metadata": {
  "kernelspec": {
   "display_name": "env",
   "language": "python",
   "name": "python3"
  },
  "language_info": {
   "codemirror_mode": {
    "name": "ipython",
    "version": 3
   },
   "file_extension": ".py",
   "mimetype": "text/x-python",
   "name": "python",
   "nbconvert_exporter": "python",
   "pygments_lexer": "ipython3",
   "version": "3.10.6"
  },
  "orig_nbformat": 4
 },
 "nbformat": 4,
 "nbformat_minor": 2
}
