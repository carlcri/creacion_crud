{
 "cells": [
  {
   "attachments": {},
   "cell_type": "markdown",
   "metadata": {},
   "source": [
    "# Click desde Cero\n",
    "\n",
    "https://www.youtube.com/watch?v=7yJbMfQMvRQ"
   ]
  },
  {
   "attachments": {},
   "cell_type": "markdown",
   "metadata": {},
   "source": [
    "## Using sys.argv\n",
    "\n",
    "Command line arguments are those values that are passed during calling of program along with the calling statement. Thus, the first element of the array sys.argv() is **the name of the program itself**. sys.argv() is an array for command line arguments in Python.\n",
    "\n",
    "See: **0_sys_argv.py**"
   ]
  },
  {
   "cell_type": "code",
   "execution_count": null,
   "metadata": {},
   "outputs": [],
   "source": [
    "import sys\n",
    "\n",
    "if __name__ == '__main__':\n",
    "    print(\"This is the name of the program {}\".format(sys.argv[0]))"
   ]
  },
  {
   "attachments": {},
   "cell_type": "markdown",
   "metadata": {},
   "source": [
    "Y su salida: \n",
    "\n",
    "    This is the name of the program 0_sys_argv.py"
   ]
  },
  {
   "attachments": {},
   "cell_type": "markdown",
   "metadata": {},
   "source": [
    "### ¿Que pasaria si pasaramos mas argumentos e igualemente los quisieramos ver?\n",
    "\n",
    "See: **1_sys_argv.py**"
   ]
  },
  {
   "cell_type": "code",
   "execution_count": null,
   "metadata": {},
   "outputs": [],
   "source": [
    "import sys, os\n",
    "\n",
    "if __name__ == '__main__':\n",
    "\n",
    "    for indx, item in enumerate(sys.argv):\n",
    "        if indx == 0:\n",
    "            print(\"name of the program {}\".format(sys.argv[0]))\n",
    "        else:\n",
    "            print(\"argument: {}\".format(item))"
   ]
  },
  {
   "attachments": {},
   "cell_type": "markdown",
   "metadata": {},
   "source": [
    "Supongamos ejectumos el script de la siguiente forma:\n",
    "\n",
    "    python3 1_sys_argv.py hola mundo \n",
    "\n",
    "La salida seria esta:\n",
    "\n",
    "    name of the program 1_sys_argv.py\n",
    "    argument: hola\n",
    "    argument: mundo\n",
    "\n",
    "Para un total de 2 argumentos ✅"
   ]
  },
  {
   "attachments": {},
   "cell_type": "markdown",
   "metadata": {},
   "source": [
    "Sin embargo, a medida que crece la complejidad del programa, *argv* no es la mejor opcion."
   ]
  },
  {
   "attachments": {},
   "cell_type": "markdown",
   "metadata": {},
   "source": [
    "## Introducion a Click\n",
    "\n",
    "### decorador click.group\n",
    "\n",
    "Script: **2_click_command.py**\n",
    "\n",
    "    @click.group\n",
    "    def main():\n",
    "        print('Hola Mundo')\n",
    "\n",
    "    if __name__ == '__main__':\n",
    "        main()\n",
    "\n",
    "Y lo ejecutamos:"
   ]
  },
  {
   "attachments": {},
   "cell_type": "markdown",
   "metadata": {},
   "source": [
    "![](https://i.imgur.com/uz1uE6e.png)\n",
    "\n",
    "En realidad no esta mostrando ningun error, solo me da informacion necesito ejecutar el programa con el alguna opcion y/o argumento. Esta mostrando la documentacion del CLI\n",
    "\n",
    "Si ejecutmos con la opcion --help\n",
    "\n",
    "    python3 2_click_command.py --help \n",
    "\n",
    "Encontraremos exactamente la misma informacion.\n",
    "\n"
   ]
  },
  {
   "attachments": {},
   "cell_type": "markdown",
   "metadata": {},
   "source": [
    "### Decoraador Command\n",
    "\n",
    "Convierte las funciones en comandos. A continuacion, nuestro primer comando: \n",
    "\n",
    "    @click.group\n",
    "    def main():\n",
    "        pass\n",
    "\n",
    "    @main.command\n",
    "    def greeting():\n",
    "        print('Hola Mundo')\n",
    "\n",
    "\n",
    "    if __name__ == '__main__':\n",
    "        main()\n",
    "\n",
    "Si ejecutamos con la opcion --help:\n",
    "\n",
    "![](https://i.imgur.com/0ne3z3C.png)\n",
    "\n",
    "\n",
    "Y para ejecutar el comando, pues le colocamos el comando:\n",
    "\n",
    "    python3 3_click_command.py greeting"
   ]
  },
  {
   "attachments": {},
   "cell_type": "markdown",
   "metadata": {},
   "source": [
    "En **4_click_command.py** agregamos un segundo comando, decorandolo con *command*\n",
    "\n",
    "    @main.command\n",
    "    def goodbye():\n",
    "        print('Good bye, see you tomorrow')\n",
    "\n",
    "Y para ejecutarlo, lo mismo:\n",
    "\n",
    "    python3 4_click_command.py goodbye \n"
   ]
  },
  {
   "attachments": {},
   "cell_type": "markdown",
   "metadata": {},
   "source": [
    "### Ejecutando Python de manera implicita\n",
    "\n",
    "Para todos los sistemas opertivos basado en UNIX, se agrega la siguiente en la primera linea de codigo:\n",
    "\n",
    "    #!/usr/bin/env python\n",
    "\n",
    "Esa ubicacion es donde se encuentra el interprete de python. De esta forma se le indica al SO que ejecute el script usando el interprete de python\n",
    "\n",
    "Tambien modificar los permisos:\n",
    "\n",
    "    sudo chmod +x 4_click_command.py\n",
    "\n",
    "Y para ejecuta el script:\n",
    "\n",
    "    ./4_click_command.py ✅\n",
    "\n"
   ]
  },
  {
   "attachments": {},
   "cell_type": "markdown",
   "metadata": {},
   "source": [
    "### Decorador @click.argument\n",
    "\n",
    "script: **5_click_argument.py**\n",
    "\n",
    "\n",
    "Simularemos una conexion a una base de datos, centradonos por ahora en las funcionalidades de Click.\n",
    "\n",
    "Necesitaremos un comando, y tambien algunos *argumentos* para crear el usuario. De ahi el decorador @click.argument\n",
    "\n",
    "    @main.command\n",
    "    @click.argument('username')\n",
    "    def create_user(username):\n",
    "        print('Usuario: {} , creado exitosamente'.format(username))\n",
    "\n",
    "Al decorar la funcion con *click.argument*, estamos indicando que cada vez que ejecutamos el comando *create_user* es necesario *username*. De lo contrario saldra un error:\n",
    "\n",
    "    ./5_click_argument.py create-user\n",
    "\n",
    "![](https://i.imgur.com/tLwnzNi.png)\n",
    "\n",
    "Si ahora enviamos un argumento como debe ser:\n",
    "\n",
    "    ./5_click_argument.py create-user Armando \n",
    "\n",
    "Salida:\n",
    "\n",
    "    Usuario: Armando , creado exitosamente\n"
   ]
  },
  {
   "attachments": {},
   "cell_type": "markdown",
   "metadata": {},
   "source": [
    "### Decorador @click.option\n",
    "\n",
    "Si para el usuario un valor opcional es por ejemplo la edad. Entonces añadimos un nuevo decorador:\n",
    "\n",
    "![](https://i.imgur.com/KvM0ttG.png)"
   ]
  },
  {
   "attachments": {},
   "cell_type": "markdown",
   "metadata": {},
   "source": [
    "EL valor por defecto es opcional. Si queremos sobreescribir el valor por defecto, entonces:\n",
    "\n",
    "    ./5_click_argument.py create-user Armando --age 21\n",
    "\n",
    "o tambien, de forma abreviada:\n",
    "\n",
    "    ./5_click_argument.py create-user Armando -a 21"
   ]
  },
  {
   "attachments": {},
   "cell_type": "markdown",
   "metadata": {},
   "source": [
    "#### Bandera\n",
    "\n",
    "Son opciones, pero solo toman valores booleanos: \n",
    "\n",
    "![](https://i.imgur.com/dcnSJ7D.png)"
   ]
  },
  {
   "attachments": {},
   "cell_type": "markdown",
   "metadata": {},
   "source": [
    "El valor por defecto de las banderas es *False* asi que si: \n",
    "\n",
    "    ./5_click_argument.py create-user Armando -a 26\n",
    "\n",
    "No entrara al *if*.\n",
    "\n",
    "Si por el contratio, queremos cambiar su valor, simplemente:\n",
    "\n",
    "    ./5_click_argument.py create-user Armando -a 26 --active\n",
    "\n",
    "Y ahora si imprimira: *estado: activo* 😀"
   ]
  },
  {
   "attachments": {},
   "cell_type": "markdown",
   "metadata": {},
   "source": [
    "### Ejercicio\n",
    "\n",
    "script: **6_requires_password.py**\n",
    "\n",
    "Escribir una funcion, que permita identificarse con un usuario y un password. Usando como plantilla un scrip anterior, lo modificaremos:\n",
    "\n",
    "![](https://i.imgur.com/eFd7WIW.png)\n",
    "\n"
   ]
  },
  {
   "attachments": {},
   "cell_type": "markdown",
   "metadata": {},
   "source": [
    "Dentro de la option *password* se coloco un *prompt*, que funciono de esta manera, para que el usuario ingrese su password:\n",
    "\n",
    "![](https://i.imgur.com/Q3MKW1l.png)\n",
    "\n",
    "Sin embargo, si deseamos que mientras se digita el mismo, no se vea en pantalla, entonces agregamos el parametro *hide input* para proteger valores sensibles.\n",
    "\n",
    "    @click.option('--password', '-p', prompt='Enter Password', hide_input=True)\n",
    "\n"
   ]
  },
  {
   "attachments": {},
   "cell_type": "markdown",
   "metadata": {},
   "source": [
    "## Ayuda\n",
    "\n",
    "script: **7_ayuda.py**\n",
    "\n",
    "Es bueno añadir ayudas. Por ejemplo:\n",
    "\n",
    "![](https://i.imgur.com/aMK6Rtg.png)"
   ]
  },
  {
   "attachments": {},
   "cell_type": "markdown",
   "metadata": {},
   "source": [
    "#### Ayuda Principal\n",
    "\n",
    "El punto de entrada, es la funcion *cli()*. Si hacemos una llamada a la ayuda general, veremos que hay dos commandos:\n",
    "\n",
    "    ./7_ayuda.py --help \n",
    "\n",
    "![](https://i.imgur.com/SPfmkjY.png)\n",
    "\n",
    "EL mensaje: *Manages Database* lo colocamos entre triples comillas en la funcion de entrada.\n",
    "\n",
    "#### Ayuda por comandos\n",
    "\n",
    "Si ahora, queremos que nos muestre la ayuda de cada comando:\n",
    "\n",
    "    ./7_ayuda.py drop-db --help\n",
    "\n",
    "![](https://i.imgur.com/WuX5ORt.png)\n",
    "\n",
    "Dicho mensaje de: *Deletes database* fue colocado entre comillas triples en dicha funcio. Observa te muestra las opciones sin que tengas que hacer nada"
   ]
  },
  {
   "attachments": {},
   "cell_type": "markdown",
   "metadata": {},
   "source": [
    "## Colores y Estilos\n",
    "\n",
    "Tanto para texto, como para argumentos entre otros.\n",
    "\n",
    "    click.echo(click.style(db_name, fg='green'))   \n",
    "    click.echo(click.style('Bold Text', bold=True)) \n",
    "    click.echo(click.style('backgrond color', bg='blue'))\n",
    "\n",
    "-bg: background"
   ]
  },
  {
   "attachments": {},
   "cell_type": "markdown",
   "metadata": {},
   "source": [
    "### Multiples argumentos y tipo \n",
    "\n",
    "script: **8_multiple.py**\n",
    "\n",
    "Por defecto se pasa solo un argumento, pero con el parametro *nargs* se puede modificar el numero de argunmento recibidos\n",
    "\n",
    "- nargs=-1 recibira tantos como se quieran\n",
    "\n",
    "- Para recibir un tipo de dato especifico, con el parametro *type*\n",
    "\n",
    "- numbers sera ahora de tipo *tuple*\n",
    "\n",
    "![](https://i.imgur.com/WnB0ArQ.png)\n",
    "\n"
   ]
  },
  {
   "attachments": {},
   "cell_type": "markdown",
   "metadata": {},
   "source": [
    "1. Verifica que las funcionalidade de ayuda funcionen:\n",
    "\n",
    "    ./8_multiple.py\n",
    "\n",
    "    ./8_multiple.py suma --help\n",
    "\n",
    "    ./8_multiple.py resta --help \n",
    "\n",
    "2. Para enviar datos:\n",
    "\n",
    "    ./8_multiple.py resta 232 14\n",
    "\n",
    "    ./8_multiple.py suma  1 2 3 4 5"
   ]
  }
 ],
 "metadata": {
  "kernelspec": {
   "display_name": "env",
   "language": "python",
   "name": "python3"
  },
  "language_info": {
   "codemirror_mode": {
    "name": "ipython",
    "version": 3
   },
   "file_extension": ".py",
   "mimetype": "text/x-python",
   "name": "python",
   "nbconvert_exporter": "python",
   "pygments_lexer": "ipython3",
   "version": "3.10.6"
  },
  "orig_nbformat": 4
 },
 "nbformat": 4,
 "nbformat_minor": 2
}
